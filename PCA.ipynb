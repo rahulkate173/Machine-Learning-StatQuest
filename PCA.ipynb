{
 "cells": [
  {
   "cell_type": "code",
   "execution_count": 1,
   "id": "936420c0-f6ed-4cfe-b46f-a91c5eae9e2b",
   "metadata": {},
   "outputs": [],
   "source": [
    "import pandas as pd\n",
    "import numpy as np\n",
    "import random as rd\n",
    "from sklearn.decomposition import PCA\n",
    "import matplotlib.pyplot as plt\n",
    "from sklearn import preprocessing"
   ]
  },
  {
   "cell_type": "markdown",
   "id": "d7419219-50cc-444c-9db8-72162b4fd2e8",
   "metadata": {},
   "source": [
    "### generating sample data set"
   ]
  },
  {
   "cell_type": "code",
   "execution_count": 2,
   "id": "6019618e-33e2-443d-b1a6-8b2a3ab2d9ab",
   "metadata": {},
   "outputs": [],
   "source": [
    "genes=['gene'+str(i) for i in range(1,101)]\n",
    "wt=['wt'+str(i) for i in range(1,6)] # wild type sample \n",
    "ko=['ko'+str(i) for i in range(1,6)] # knock out sample"
   ]
  },
  {
   "cell_type": "code",
   "execution_count": 3,
   "id": "ffce54e8-c60a-4e9e-8437-7c0b1d018cc7",
   "metadata": {},
   "outputs": [],
   "source": [
    "data=pd.DataFrame(columns=[*wt,*ko],index=genes)"
   ]
  },
  {
   "cell_type": "code",
   "execution_count": 4,
   "id": "f4f5ae50-6d3f-495e-bceb-a0c5b42ad7ee",
   "metadata": {},
   "outputs": [],
   "source": [
    "for gene in data.index:\n",
    "    data.loc[gene,'wt1':'wt5']=np.random.poisson(lam=rd.randrange(10,1000),size=5)\n",
    "    data.loc[gene,'ko1':'ko5']=np.random.poisson(lam=rd.randrange(10,1000),size=5)"
   ]
  },
  {
   "cell_type": "code",
   "execution_count": 5,
   "id": "53bc8f77-6c04-4516-8e2c-38e095333d2a",
   "metadata": {},
   "outputs": [
    {
     "name": "stdout",
     "output_type": "stream",
     "text": [
      "       wt1  wt2  wt3  wt4  wt5  ko1  ko2  ko3  ko4  ko5\n",
      "gene1  742  682  697  689  660  104   99   91  100   90\n",
      "gene2  217  190  224  198  183   30   27   19   28   26\n",
      "gene3  889  858  806  842  886  205  221  205  230  237\n",
      "gene4  302  278  286  319  270  286  261  276  277  268\n",
      "gene5  594  630  572  583  610  292  308  279  288  269\n"
     ]
    }
   ],
   "source": [
    "print(data.head())"
   ]
  },
  {
   "cell_type": "code",
   "execution_count": 6,
   "id": "3fc8170f-c79d-4bcf-a7f0-0bb3fd4cf02a",
   "metadata": {},
   "outputs": [
    {
     "data": {
      "text/plain": [
       "(100, 10)"
      ]
     },
     "execution_count": 6,
     "metadata": {},
     "output_type": "execute_result"
    }
   ],
   "source": [
    "data.shape"
   ]
  },
  {
   "cell_type": "code",
   "execution_count": 7,
   "id": "b37fdb86-42a1-465a-937c-7b1fc782ff97",
   "metadata": {},
   "outputs": [],
   "source": [
    "scaled_data=preprocessing.scale(data.T) # after centering average=0 and after scaling std=1"
   ]
  },
  {
   "cell_type": "markdown",
   "id": "36914a8a-d6c4-4b09-9a1b-ce5589da1226",
   "metadata": {},
   "source": [
    "###### scale functions expect the samples to be in row instead of columns "
   ]
  },
  {
   "cell_type": "markdown",
   "id": "55adf748-73fe-43dd-b725-78e73a1ff897",
   "metadata": {},
   "source": [
    "### Sklearn -> variation = (measurements-mean)^2/(the number of measurement)"
   ]
  },
  {
   "cell_type": "code",
   "execution_count": 8,
   "id": "be5cd0df-04ad-4547-957c-13f446095b79",
   "metadata": {},
   "outputs": [],
   "source": [
    "# creating pca\n",
    "pca=PCA()\n",
    "pca.fit(scaled_data)\n",
    "pca_data=pca.transform(scaled_data)"
   ]
  },
  {
   "cell_type": "code",
   "execution_count": 9,
   "id": "e50c561f-eeae-407e-b45e-b4dd95300282",
   "metadata": {},
   "outputs": [],
   "source": [
    "per_var=np.round(pca.explained_variance_ratio_*100,decimals=1)\n",
    "labels=['PC'+str(x) for x in range(1,len(per_var)+1)]"
   ]
  },
  {
   "cell_type": "code",
   "execution_count": 10,
   "id": "3626add9-c813-4c40-bd94-2468ec175f06",
   "metadata": {},
   "outputs": [
    {
     "data": {
      "image/png": "[encoded data removed]",
      "text/plain": [
       "<Figure size 640x480 with 1 Axes>"
      ]
     },
     "metadata": {},
     "output_type": "display_data"
    }
   ],
   "source": [
    "plt.bar(x=range(1,len(per_var)+1),height=per_var,tick_label=labels)\n",
    "plt.xlabel('Principal Component')\n",
    "plt.ylabel('Percentage of Explained Variance')\n",
    "plt.title('Scree Plot')\n",
    "plt.grid()\n",
    "plt.show()"
   ]
  },
  {
   "cell_type": "markdown",
   "id": "f751289d-fc4d-48a0-a107-3ee8a9f79978",
   "metadata": {},
   "source": [
    "### Almost all the variance is around first Pc and second PC so using 2-D plot is good representaing of original data"
   ]
  },
  {
   "cell_type": "code",
   "execution_count": 11,
   "id": "923ed97b-c98c-4d6f-ada9-dc45588878cc",
   "metadata": {},
   "outputs": [
    {
     "data": {
      "text/html": [
       "<div>\n",
       "<style scoped>\n",
       "    .dataframe tbody tr th:only-of-type {\n",
       "        vertical-align: middle;\n",
       "    }\n",
       "\n",
       "    .dataframe tbody tr th {\n",
       "        vertical-align: top;\n",
       "    }\n",
       "\n",
       "    .dataframe thead th {\n",
       "        text-align: right;\n",
       "    }\n",
       "</style>\n",
       "<table border=\"1\" class=\"dataframe\">\n",
       "  <thead>\n",
       "    <tr style=\"text-align: right;\">\n",
       "      <th></th>\n",
       "      <th>PC1</th>\n",
       "      <th>PC2</th>\n",
       "      <th>PC3</th>\n",
       "      <th>PC4</th>\n",
       "      <th>PC5</th>\n",
       "      <th>PC6</th>\n",
       "      <th>PC7</th>\n",
       "      <th>PC8</th>\n",
       "      <th>PC9</th>\n",
       "      <th>PC10</th>\n",
       "    </tr>\n",
       "  </thead>\n",
       "  <tbody>\n",
       "    <tr>\n",
       "      <th>wt1</th>\n",
       "      <td>-9.292098</td>\n",
       "      <td>0.122732</td>\n",
       "      <td>-1.658306</td>\n",
       "      <td>0.666779</td>\n",
       "      <td>-0.759496</td>\n",
       "      <td>1.407329</td>\n",
       "      <td>2.115107</td>\n",
       "      <td>-0.608961</td>\n",
       "      <td>-0.161817</td>\n",
       "      <td>-8.438621e-16</td>\n",
       "    </tr>\n",
       "    <tr>\n",
       "      <th>wt2</th>\n",
       "      <td>-9.235148</td>\n",
       "      <td>1.979227</td>\n",
       "      <td>1.335282</td>\n",
       "      <td>-0.392567</td>\n",
       "      <td>-1.589723</td>\n",
       "      <td>-1.214866</td>\n",
       "      <td>0.109251</td>\n",
       "      <td>0.335057</td>\n",
       "      <td>1.028265</td>\n",
       "      <td>-7.526036e-16</td>\n",
       "    </tr>\n",
       "    <tr>\n",
       "      <th>wt3</th>\n",
       "      <td>-9.185743</td>\n",
       "      <td>0.501726</td>\n",
       "      <td>-2.405200</td>\n",
       "      <td>0.723111</td>\n",
       "      <td>0.760934</td>\n",
       "      <td>-0.344678</td>\n",
       "      <td>-1.221901</td>\n",
       "      <td>1.697867</td>\n",
       "      <td>-0.235779</td>\n",
       "      <td>-5.333446e-16</td>\n",
       "    </tr>\n",
       "    <tr>\n",
       "      <th>wt4</th>\n",
       "      <td>-9.785654</td>\n",
       "      <td>-0.407766</td>\n",
       "      <td>0.436296</td>\n",
       "      <td>-2.997937</td>\n",
       "      <td>1.539336</td>\n",
       "      <td>-0.462586</td>\n",
       "      <td>-0.002172</td>\n",
       "      <td>-0.852653</td>\n",
       "      <td>-0.412608</td>\n",
       "      <td>-4.067784e-16</td>\n",
       "    </tr>\n",
       "    <tr>\n",
       "      <th>wt5</th>\n",
       "      <td>-9.413429</td>\n",
       "      <td>-2.169288</td>\n",
       "      <td>2.261062</td>\n",
       "      <td>2.063901</td>\n",
       "      <td>-0.003049</td>\n",
       "      <td>0.614529</td>\n",
       "      <td>-0.997387</td>\n",
       "      <td>-0.526821</td>\n",
       "      <td>-0.210362</td>\n",
       "      <td>5.902817e-16</td>\n",
       "    </tr>\n",
       "  </tbody>\n",
       "</table>\n",
       "</div>"
      ],
      "text/plain": [
       "          PC1       PC2       PC3       PC4       PC5       PC6       PC7  \\\n",
       "wt1 -9.292098  0.122732 -1.658306  0.666779 -0.759496  1.407329  2.115107   \n",
       "wt2 -9.235148  1.979227  1.335282 -0.392567 -1.589723 -1.214866  0.109251   \n",
       "wt3 -9.185743  0.501726 -2.405200  0.723111  0.760934 -0.344678 -1.221901   \n",
       "wt4 -9.785654 -0.407766  0.436296 -2.997937  1.539336 -0.462586 -0.002172   \n",
       "wt5 -9.413429 -2.169288  2.261062  2.063901 -0.003049  0.614529 -0.997387   \n",
       "\n",
       "          PC8       PC9          PC10  \n",
       "wt1 -0.608961 -0.161817 -8.438621e-16  \n",
       "wt2  0.335057  1.028265 -7.526036e-16  \n",
       "wt3  1.697867 -0.235779 -5.333446e-16  \n",
       "wt4 -0.852653 -0.412608 -4.067784e-16  \n",
       "wt5 -0.526821 -0.210362  5.902817e-16  "
      ]
     },
     "execution_count": 11,
     "metadata": {},
     "output_type": "execute_result"
    }
   ],
   "source": [
    "pca_df=pd.DataFrame(pca_data,index=[*wt,*ko],columns=labels)\n",
    "pca_df.head()"
   ]
  },
  {
   "cell_type": "code",
   "execution_count": 12,
   "id": "879e2e69-c2d1-4f6a-bcc3-b252193ca155",
   "metadata": {},
   "outputs": [
    {
     "data": {
      "text/plain": [
       "array([88.1,  2.7,  2.1,  1.9,  1.4,  1.3,  1.1,  1. ,  0.4,  0. ])"
      ]
     },
     "execution_count": 12,
     "metadata": {},
     "output_type": "execute_result"
    }
   ],
   "source": [
    "per_var"
   ]
  },
  {
   "cell_type": "code",
   "execution_count": 13,
   "id": "ae691ac5-ba7c-44c4-9e23-efd25006f2b5",
   "metadata": {},
   "outputs": [
    {
     "data": {
      "image/png": "[encoded data removed]",
      "text/plain": [
       "<Figure size 640x480 with 1 Axes>"
      ]
     },
     "metadata": {},
     "output_type": "display_data"
    }
   ],
   "source": [
    "plt.scatter(pca_df.PC1,pca_df.PC2)\n",
    "plt.title('PCA Graph')\n",
    "plt.xlabel(f'PC1-{per_var[0]}')\n",
    "plt.ylabel(f'PC2-{per_var[1]}')\n",
    "for sample in pca_df.index:\n",
    "    plt.annotate(sample,(pca_df['PC1'].loc[sample],pca_df['PC2'].loc[sample]))\n",
    "plt.show()"
   ]
  },
  {
   "cell_type": "markdown",
   "id": "9b9a8b79-d730-4ed0-b63a-4b3c0efed26a",
   "metadata": {},
   "source": [
    "### wt -> correlated on left side\n",
    "### ko -> correlated on right side\n",
    "### distance on x-axis between wt and ko cluster tells that they are different from each other"
   ]
  },
  {
   "cell_type": "markdown",
   "id": "5e5915be-1f87-479d-9ad3-8722daf7198f",
   "metadata": {},
   "source": [
    "### loading Scores"
   ]
  },
  {
   "cell_type": "code",
   "execution_count": 14,
   "id": "a881c989-a462-4586-ac15-de4e867e8eed",
   "metadata": {},
   "outputs": [],
   "source": [
    "loading_scores=pd.Series(pca.components_[0],index=genes)"
   ]
  },
  {
   "cell_type": "code",
   "execution_count": 15,
   "id": "80ac552a-ae3b-419f-a951-14ba86321a84",
   "metadata": {},
   "outputs": [],
   "source": [
    "sorted_loading_scores=loading_scores.abs().sort_values(ascending=True)"
   ]
  },
  {
   "cell_type": "code",
   "execution_count": 16,
   "id": "4e55463e-d4bd-43bc-9192-98efb2952bfc",
   "metadata": {},
   "outputs": [],
   "source": [
    "top_10_genes=sorted_loading_scores[0:10].index.values"
   ]
  },
  {
   "cell_type": "code",
   "execution_count": 17,
   "id": "cba3ba74-7457-4971-a36b-81311cb4ec88",
   "metadata": {},
   "outputs": [
    {
     "data": {
      "text/plain": [
       "gene80   -0.008207\n",
       "gene85   -0.017631\n",
       "gene16   -0.017708\n",
       "gene78    0.036153\n",
       "gene4    -0.057823\n",
       "gene68    0.058566\n",
       "gene59    0.067457\n",
       "gene26   -0.073154\n",
       "gene36    0.073762\n",
       "gene93   -0.076165\n",
       "dtype: float64"
      ]
     },
     "execution_count": 17,
     "metadata": {},
     "output_type": "execute_result"
    }
   ],
   "source": [
    "loading_scores[top_10_genes]"
   ]
  },
  {
   "cell_type": "code",
   "execution_count": null,
   "id": "11c2ccb7-34c8-4205-83a5-6b3e36581b91",
   "metadata": {},
   "outputs": [],
   "source": []
  }
 ],
 "metadata": {
  "kernelspec": {
   "display_name": "Python 3 (ipykernel)",
   "language": "python",
   "name": "python3"
  },
  "language_info": {
   "codemirror_mode": {
    "name": "ipython",
    "version": 3
   },
   "file_extension": ".py",
   "mimetype": "text/x-python",
   "name": "python",
   "nbconvert_exporter": "python",
   "pygments_lexer": "ipython3",
   "version": "3.12.5"
  }
 },
 "nbformat": 4,
 "nbformat_minor": 5
}
