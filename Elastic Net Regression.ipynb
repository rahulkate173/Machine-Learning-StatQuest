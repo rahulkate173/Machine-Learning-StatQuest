{
 "cells": [
  {
   "cell_type": "markdown",
   "id": "718bcb49-78ec-403c-85eb-4d19344efb1d",
   "metadata": {},
   "source": [
    "# Elastic Net Regression"
   ]
  },
  {
   "cell_type": "code",
   "execution_count": 1,
   "id": "42b4fc4f-89fa-4878-ac61-bc9c81b3e351",
   "metadata": {},
   "outputs": [],
   "source": [
    "import numpy as np\n",
    "import seaborn as sns\n",
    "import matplotlib.pyplot as plt\n",
    "from sklearn.linear_model import LinearRegression,LogisticRegression,ElasticNet,ElasticNetCV\n",
    "from sklearn.model_selection import train_test_split\n",
    "from sklearn.model_selection import LeaveOneOut\n",
    "from sklearn.metrics import accuracy_score,mean_squared_error,r2_score\n",
    "from sklearn.preprocessing import OneHotEncoder"
   ]
  },
  {
   "cell_type": "markdown",
   "id": "92d5e998-8d8d-4999-8913-a14af83d7a5d",
   "metadata": {},
   "source": [
    "### sum of least square residual + (alpha * l1_ratio*(|slope|)) + (alpha*(1-l1_ratio)*(slope)^2)"
   ]
  },
  {
   "cell_type": "code",
   "execution_count": 2,
   "id": "d788ee6b-7877-4cfb-a901-28dea6e3968d",
   "metadata": {},
   "outputs": [],
   "source": [
    "rng=np.random.default_rng(seed=42)"
   ]
  },
  {
   "cell_type": "code",
   "execution_count": 3,
   "id": "af6d68d3-eb04-43be-842c-909b6f60481b",
   "metadata": {},
   "outputs": [],
   "source": [
    "n=1000 # !000 sample \n",
    "p=5000 # 5000 parameters to estimate \n",
    "real_p=15 # 15 parameter help to predict the outcome remaining 4985 are just random noise"
   ]
  },
  {
   "cell_type": "code",
   "execution_count": 6,
   "id": "6f385204-ae7f-4fed-a12b-4f83d10d9eef",
   "metadata": {},
   "outputs": [],
   "source": [
    "x=np.random.randn(n,p)"
   ]
  },
  {
   "cell_type": "code",
   "execution_count": 9,
   "id": "18ca45cd-fd02-4fe9-aa77-e1406d2fef82",
   "metadata": {},
   "outputs": [
    {
     "data": {
      "text/plain": [
       "(1000, 5000)"
      ]
     },
     "execution_count": 9,
     "metadata": {},
     "output_type": "execute_result"
    }
   ],
   "source": [
    "x.shape"
   ]
  },
  {
   "cell_type": "code",
   "execution_count": 12,
   "id": "f7a380fc-cba4-4cd5-9228-b3db71f371ed",
   "metadata": {},
   "outputs": [],
   "source": [
    "y=(x[:,1:real_p]).sum()+rng.standard_normal(n)"
   ]
  },
  {
   "cell_type": "code",
   "execution_count": 14,
   "id": "f0ac4c46-48f3-425d-8071-e8c35403a915",
   "metadata": {},
   "outputs": [
    {
     "data": {
      "text/plain": [
       "(1000,)"
      ]
     },
     "execution_count": 14,
     "metadata": {},
     "output_type": "execute_result"
    }
   ],
   "source": [
    "y.shape"
   ]
  },
  {
   "cell_type": "code",
   "execution_count": 15,
   "id": "394c6b94-94ab-401c-bb49-373cbf850a1b",
   "metadata": {},
   "outputs": [],
   "source": [
    "x_train,x_test,y_train,y_test=train_test_split(x,y,test_size=0.33,random_state=42)"
   ]
  },
  {
   "cell_type": "code",
   "execution_count": 16,
   "id": "03ffce2b-8648-466b-9629-a045026d6cc2",
   "metadata": {},
   "outputs": [
    {
     "data": {
      "text/plain": [
       "1.075647137332431"
      ]
     },
     "execution_count": 16,
     "metadata": {},
     "output_type": "execute_result"
    }
   ],
   "source": [
    "alpha5=ElasticNet(alpha=0.5,l1_ratio=0.5).fit(x_train,y_train)\n",
    "y_predalpha=alpha5.predict(x_test)\n",
    "mean_squared_error(y_test,y_predalpha)"
   ]
  },
  {
   "cell_type": "code",
   "execution_count": null,
   "id": "8092d19b-0a29-43a4-9862-1a910980ba23",
   "metadata": {},
   "outputs": [],
   "source": []
  }
 ],
 "metadata": {
  "kernelspec": {
   "display_name": "Python 3 (ipykernel)",
   "language": "python",
   "name": "python3"
  },
  "language_info": {
   "codemirror_mode": {
    "name": "ipython",
    "version": 3
   },
   "file_extension": ".py",
   "mimetype": "text/x-python",
   "name": "python",
   "nbconvert_exporter": "python",
   "pygments_lexer": "ipython3",
   "version": "3.12.5"
  }
 },
 "nbformat": 4,
 "nbformat_minor": 5
}
