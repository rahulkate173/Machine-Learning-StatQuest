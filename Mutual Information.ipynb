{
 "cells": [
  {
   "cell_type": "code",
   "execution_count": 1,
   "id": "1cd5f2d3-f1d4-48e6-becd-e84feeb326ac",
   "metadata": {},
   "outputs": [],
   "source": [
    "import numpy as np\n",
    "import pandas as pd\n",
    "from sklearn.metrics import mutual_info_score"
   ]
  },
  {
   "cell_type": "code",
   "execution_count": 7,
   "id": "6bebd219-11fd-4663-bd14-8d2384884c67",
   "metadata": {},
   "outputs": [
    {
     "data": {
      "text/html": [
       "<div>\n",
       "<style scoped>\n",
       "    .dataframe tbody tr th:only-of-type {\n",
       "        vertical-align: middle;\n",
       "    }\n",
       "\n",
       "    .dataframe tbody tr th {\n",
       "        vertical-align: top;\n",
       "    }\n",
       "\n",
       "    .dataframe thead th {\n",
       "        text-align: right;\n",
       "    }\n",
       "</style>\n",
       "<table border=\"1\" class=\"dataframe\">\n",
       "  <thead>\n",
       "    <tr style=\"text-align: right;\">\n",
       "      <th></th>\n",
       "      <th>Likes Popcorn</th>\n",
       "      <th>Height</th>\n",
       "      <th>Loves Troll 2</th>\n",
       "    </tr>\n",
       "  </thead>\n",
       "  <tbody>\n",
       "    <tr>\n",
       "      <th>0</th>\n",
       "      <td>True</td>\n",
       "      <td>1.77</td>\n",
       "      <td>True</td>\n",
       "    </tr>\n",
       "    <tr>\n",
       "      <th>1</th>\n",
       "      <td>True</td>\n",
       "      <td>1.32</td>\n",
       "      <td>False</td>\n",
       "    </tr>\n",
       "    <tr>\n",
       "      <th>2</th>\n",
       "      <td>True</td>\n",
       "      <td>1.45</td>\n",
       "      <td>True</td>\n",
       "    </tr>\n",
       "    <tr>\n",
       "      <th>3</th>\n",
       "      <td>False</td>\n",
       "      <td>1.65</td>\n",
       "      <td>True</td>\n",
       "    </tr>\n",
       "    <tr>\n",
       "      <th>4</th>\n",
       "      <td>True</td>\n",
       "      <td>1.33</td>\n",
       "      <td>True</td>\n",
       "    </tr>\n",
       "  </tbody>\n",
       "</table>\n",
       "</div>"
      ],
      "text/plain": [
       "   Likes Popcorn  Height  Loves Troll 2\n",
       "0           True    1.77           True\n",
       "1           True    1.32          False\n",
       "2           True    1.45           True\n",
       "3          False    1.65           True\n",
       "4           True    1.33           True"
      ]
     },
     "execution_count": 7,
     "metadata": {},
     "output_type": "execute_result"
    }
   ],
   "source": [
    "dataset=pd.DataFrame({'Likes Popcorn':[True,True,True,False,True],'Height':[1.77,1.32,1.45,1.65,1.33]\n",
    "                      ,'Loves Troll 2':[True,False,True,True,True]})\n",
    "dataset"
   ]
  },
  {
   "cell_type": "code",
   "execution_count": 11,
   "id": "071a34fb-c784-4b25-a15f-e1f45ed02ccb",
   "metadata": {},
   "outputs": [],
   "source": [
    "dataset['Likes Popcorn']=dataset['Likes Popcorn'].astype(int)\n",
    "dataset['Loves Troll 2']=dataset['Loves Troll 2'].astype(int)"
   ]
  },
  {
   "cell_type": "code",
   "execution_count": 12,
   "id": "02389dfa-a5ec-4a62-a0f1-1a831b8cae87",
   "metadata": {},
   "outputs": [
    {
     "data": {
      "text/html": [
       "<div>\n",
       "<style scoped>\n",
       "    .dataframe tbody tr th:only-of-type {\n",
       "        vertical-align: middle;\n",
       "    }\n",
       "\n",
       "    .dataframe tbody tr th {\n",
       "        vertical-align: top;\n",
       "    }\n",
       "\n",
       "    .dataframe thead th {\n",
       "        text-align: right;\n",
       "    }\n",
       "</style>\n",
       "<table border=\"1\" class=\"dataframe\">\n",
       "  <thead>\n",
       "    <tr style=\"text-align: right;\">\n",
       "      <th></th>\n",
       "      <th>Likes Popcorn</th>\n",
       "      <th>Height</th>\n",
       "      <th>Loves Troll 2</th>\n",
       "    </tr>\n",
       "  </thead>\n",
       "  <tbody>\n",
       "    <tr>\n",
       "      <th>0</th>\n",
       "      <td>1</td>\n",
       "      <td>1.77</td>\n",
       "      <td>1</td>\n",
       "    </tr>\n",
       "    <tr>\n",
       "      <th>1</th>\n",
       "      <td>1</td>\n",
       "      <td>1.32</td>\n",
       "      <td>0</td>\n",
       "    </tr>\n",
       "    <tr>\n",
       "      <th>2</th>\n",
       "      <td>1</td>\n",
       "      <td>1.45</td>\n",
       "      <td>1</td>\n",
       "    </tr>\n",
       "    <tr>\n",
       "      <th>3</th>\n",
       "      <td>0</td>\n",
       "      <td>1.65</td>\n",
       "      <td>1</td>\n",
       "    </tr>\n",
       "    <tr>\n",
       "      <th>4</th>\n",
       "      <td>1</td>\n",
       "      <td>1.33</td>\n",
       "      <td>1</td>\n",
       "    </tr>\n",
       "  </tbody>\n",
       "</table>\n",
       "</div>"
      ],
      "text/plain": [
       "   Likes Popcorn  Height  Loves Troll 2\n",
       "0              1    1.77              1\n",
       "1              1    1.32              0\n",
       "2              1    1.45              1\n",
       "3              0    1.65              1\n",
       "4              1    1.33              1"
      ]
     },
     "execution_count": 12,
     "metadata": {},
     "output_type": "execute_result"
    }
   ],
   "source": [
    "dataset"
   ]
  },
  {
   "cell_type": "code",
   "execution_count": 13,
   "id": "31544dd0-2d36-401c-9d39-af16b4bd16f7",
   "metadata": {},
   "outputs": [
    {
     "data": {
      "text/plain": [
       "np.float64(0.050534307843141224)"
      ]
     },
     "execution_count": 13,
     "metadata": {},
     "output_type": "execute_result"
    }
   ],
   "source": [
    "mutual_info_score(dataset['Likes Popcorn'],dataset['Loves Troll 2'])"
   ]
  },
  {
   "cell_type": "code",
   "execution_count": 14,
   "id": "97b10ad9-6f17-4338-8a30-5861a2803f17",
   "metadata": {},
   "outputs": [
    {
     "name": "stderr",
     "output_type": "stream",
     "text": [
      "C:\\Users\\Rahul\\AppData\\Local\\Programs\\Python\\Python312\\Lib\\site-packages\\sklearn\\metrics\\cluster\\_supervised.py:59: UserWarning: Clustering metrics expects discrete values but received continuous values for label, and binary values for target\n",
      "  warnings.warn(msg, UserWarning)\n"
     ]
    },
    {
     "data": {
      "text/plain": [
       "np.float64(0.5004024235381879)"
      ]
     },
     "execution_count": 14,
     "metadata": {},
     "output_type": "execute_result"
    }
   ],
   "source": [
    "mutual_info_score(dataset['Height'],dataset['Loves Troll 2'])"
   ]
  },
  {
   "cell_type": "markdown",
   "id": "0ebf04a7-cbd5-4168-b53c-9edead97f2e6",
   "metadata": {},
   "source": [
    " 👆 This is wrong Because the feature datatpye is continous v/s discrete"
   ]
  },
  {
   "cell_type": "code",
   "execution_count": 16,
   "id": "4fdae937-a025-4007-99a8-658202cd3380",
   "metadata": {},
   "outputs": [],
   "source": [
    "from sklearn.feature_selection import mutual_info_classif\n"
   ]
  },
  {
   "cell_type": "code",
   "execution_count": 18,
   "id": "59e98fdb-3705-405a-a62e-ac7cf866f5fe",
   "metadata": {},
   "outputs": [
    {
     "data": {
      "text/plain": [
       "array([0])"
      ]
     },
     "execution_count": 18,
     "metadata": {},
     "output_type": "execute_result"
    }
   ],
   "source": [
    "mutual_info_classif(dataset[['Height']],dataset['Loves Troll 2'])"
   ]
  },
  {
   "cell_type": "markdown",
   "id": "dd07850b-4be0-4c68-8566-5b3406db6272",
   "metadata": {},
   "source": [
    "📉 Mutual Information = 0\n",
    "So, Height provides no information about predicting Loves Troll 2 in your dataset.\n",
    "\n"
   ]
  },
  {
   "cell_type": "markdown",
   "id": "7a98f7b9-2707-4825-a292-0fc37576d03c",
   "metadata": {},
   "source": [
    "##### why 2d because it is column not list.\n",
    "###### X = dataset[['Height']]  # 2D DataFrame ✅\n",
    "###### X = dataset['Height']  # 1D Series ❌\n"
   ]
  },
  {
   "cell_type": "markdown",
   "id": "7ce50677-8219-4084-9d93-dc59aa8bc13f",
   "metadata": {},
   "source": [
    "from sklearn.feature_selection import mutual_info_regression ---> It is used for continous data v/s continuous data "
   ]
  },
  {
   "cell_type": "code",
   "execution_count": null,
   "id": "337c782d-0e71-4e7d-82ac-af60d929089e",
   "metadata": {},
   "outputs": [],
   "source": []
  }
 ],
 "metadata": {
  "kernelspec": {
   "display_name": "Python 3 (ipykernel)",
   "language": "python",
   "name": "python3"
  },
  "language_info": {
   "codemirror_mode": {
    "name": "ipython",
    "version": 3
   },
   "file_extension": ".py",
   "mimetype": "text/x-python",
   "name": "python",
   "nbconvert_exporter": "python",
   "pygments_lexer": "ipython3",
   "version": "3.12.5"
  }
 },
 "nbformat": 4,
 "nbformat_minor": 5
}
