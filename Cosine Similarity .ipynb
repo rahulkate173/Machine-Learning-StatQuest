{
 "cells": [
  {
   "cell_type": "markdown",
   "id": "6583719d-a6f7-40f8-82ad-3c92149a7b6f",
   "metadata": {},
   "source": [
    "# Cosine Similarity"
   ]
  },
  {
   "attachments": {
    "6bfdeecb-14f7-4c84-8732-4c96e1f19fe1.png": {
     "image/png": "[encoded data removed]"
    }
   },
   "cell_type": "markdown",
   "id": "f552adf9-941d-4eda-b8d8-46205bb7029d",
   "metadata": {},
   "source": [
    "![{1B8D8770-B0BB-42C6-A832-A80878F749BA}.png](attachment:6bfdeecb-14f7-4c84-8732-4c96e1f19fe1.png)"
   ]
  },
  {
   "cell_type": "code",
   "execution_count": 1,
   "id": "d7f3fea6-544f-4a12-8eac-1f49792afd6e",
   "metadata": {},
   "outputs": [],
   "source": [
    "phrase=['Hello World','Hello']"
   ]
  },
  {
   "cell_type": "code",
   "execution_count": 3,
   "id": "2b00ba8d-0e8e-4d9d-913f-b22a46eba17d",
   "metadata": {},
   "outputs": [],
   "source": [
    "import pandas as pd\n",
    "import numpy as np\n",
    "import matplotlib.pyplot as plt\n",
    "from sklearn.metrics.pairwise import cosine_similarity"
   ]
  },
  {
   "cell_type": "code",
   "execution_count": 8,
   "id": "73d72d16-1fe7-4fc5-ab7b-ab13e8113b4a",
   "metadata": {},
   "outputs": [],
   "source": [
    "from sklearn.feature_extraction.text import CountVectorizer"
   ]
  },
  {
   "cell_type": "code",
   "execution_count": 9,
   "id": "41b0e03f-2e3e-4307-b652-e416d76c9ac8",
   "metadata": {},
   "outputs": [
    {
     "data": {
      "text/plain": [
       "array([[1.        , 0.70710678],\n",
       "       [0.70710678, 1.        ]])"
      ]
     },
     "execution_count": 9,
     "metadata": {},
     "output_type": "execute_result"
    }
   ],
   "source": [
    "vectorizer=CountVectorizer()\n",
    "vectors=vectorizer.fit_transform(phrase)\n",
    "cosine_similarity(vectors)"
   ]
  },
  {
   "cell_type": "code",
   "execution_count": 12,
   "id": "d8bb83fa-db5a-40b9-8d3d-78a657f7d956",
   "metadata": {},
   "outputs": [
    {
     "data": {
      "text/plain": [
       "<Compressed Sparse Row sparse matrix of dtype 'int64'\n",
       "\twith 3 stored elements and shape (2, 2)>"
      ]
     },
     "execution_count": 12,
     "metadata": {},
     "output_type": "execute_result"
    }
   ],
   "source": [
    "vectors"
   ]
  },
  {
   "cell_type": "code",
   "execution_count": 13,
   "id": "dde4bcd7-2ea3-4f56-a8a5-16947c30e1ce",
   "metadata": {},
   "outputs": [
    {
     "data": {
      "text/plain": [
       "array(['hello', 'world'], dtype=object)"
      ]
     },
     "execution_count": 13,
     "metadata": {},
     "output_type": "execute_result"
    }
   ],
   "source": [
    "vectorizer.get_feature_names_out()"
   ]
  },
  {
   "cell_type": "code",
   "execution_count": 14,
   "id": "1574c6ee-e324-4a15-901c-e76905c6495c",
   "metadata": {},
   "outputs": [
    {
     "data": {
      "text/plain": [
       "array([[1, 1],\n",
       "       [1, 0]])"
      ]
     },
     "execution_count": 14,
     "metadata": {},
     "output_type": "execute_result"
    }
   ],
   "source": [
    "vectors.toarray()"
   ]
  },
  {
   "cell_type": "code",
   "execution_count": 32,
   "id": "10f348b5-ad2b-4801-aa8c-142c8e26708a",
   "metadata": {},
   "outputs": [
    {
     "data": {
      "text/plain": [
       "array([[1, 0, 1],\n",
       "       [1, 1, 0]])"
      ]
     },
     "execution_count": 32,
     "metadata": {},
     "output_type": "execute_result"
    }
   ],
   "source": [
    "phrase2=['I Love Troll 2','I Love Marvel']\n",
    "vectorizer=CountVectorizer(analyzer='word')\n",
    "vector=vectorizer.fit_transform(phrase2)\n",
    "vector.toarray()"
   ]
  },
  {
   "cell_type": "code",
   "execution_count": 33,
   "id": "a1e852d6-dc92-4f49-b5e9-727f7658929c",
   "metadata": {},
   "outputs": [
    {
     "data": {
      "text/plain": [
       "array(['love', 'marvel', 'troll'], dtype=object)"
      ]
     },
     "execution_count": 33,
     "metadata": {},
     "output_type": "execute_result"
    }
   ],
   "source": [
    "vectorizer.get_feature_names_out()"
   ]
  },
  {
   "cell_type": "code",
   "execution_count": 34,
   "id": "5858ba53-bd06-421d-95a3-1d5209dec115",
   "metadata": {},
   "outputs": [
    {
     "data": {
      "text/plain": [
       "array([[1. , 0.5],\n",
       "       [0.5, 1. ]])"
      ]
     },
     "execution_count": 34,
     "metadata": {},
     "output_type": "execute_result"
    }
   ],
   "source": [
    "cosine_similarity(vector)"
   ]
  },
  {
   "cell_type": "code",
   "execution_count": null,
   "id": "d1373d97-f643-4770-aa0f-c9ecb814e422",
   "metadata": {},
   "outputs": [],
   "source": []
  }
 ],
 "metadata": {
  "kernelspec": {
   "display_name": "Python 3 (ipykernel)",
   "language": "python",
   "name": "python3"
  },
  "language_info": {
   "codemirror_mode": {
    "name": "ipython",
    "version": 3
   },
   "file_extension": ".py",
   "mimetype": "text/x-python",
   "name": "python",
   "nbconvert_exporter": "python",
   "pygments_lexer": "ipython3",
   "version": "3.12.5"
  }
 },
 "nbformat": 4,
 "nbformat_minor": 5
}
