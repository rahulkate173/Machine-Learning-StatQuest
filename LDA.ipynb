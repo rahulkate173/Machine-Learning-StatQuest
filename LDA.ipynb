{
 "cells": [
  {
   "cell_type": "markdown",
   "id": "af8fe981-7773-4eb7-8a14-919f1473ceb5",
   "metadata": {},
   "source": [
    "# Linear Discriminant Analysis (LDA)"
   ]
  },
  {
   "cell_type": "markdown",
   "id": "21f8fcc5-c097-4091-980c-fd3a33b517ac",
   "metadata": {},
   "source": [
    "### It is a technique use to reduce the dimension of data by creating new line and projecting the data on it and and getting the maximum seperable distance between the categories"
   ]
  },
  {
   "cell_type": "code",
   "execution_count": 1,
   "id": "7ce63445-1b47-4ba7-b26b-14b0a2843219",
   "metadata": {},
   "outputs": [],
   "source": [
    "import numpy as np\n",
    "import pandas as pd\n",
    "import seaborn as sns\n",
    "import matplotlib.pyplot as plt\n",
    "from sklearn.discriminant_analysis import LinearDiscriminantAnalysis\n",
    "from sklearn.datasets import load_iris"
   ]
  },
  {
   "cell_type": "code",
   "execution_count": 2,
   "id": "9bc4c1ce-f63b-4e3d-906c-4749f970fa51",
   "metadata": {},
   "outputs": [],
   "source": [
    "gene_lst=['x','y']\n",
    "genes=['gene'+val for val in gene_lst]\n",
    "rand_val=np.random.normal(1.0,2.0,20)\n",
    "work=[ 1 if(i>0.5) else 0 for i in rand_val]\n"
   ]
  },
  {
   "cell_type": "code",
   "execution_count": 5,
   "id": "4e771864-6959-4e79-a771-c00b2a057283",
   "metadata": {},
   "outputs": [
    {
     "data": {
      "text/html": [
       "<div>\n",
       "<style scoped>\n",
       "    .dataframe tbody tr th:only-of-type {\n",
       "        vertical-align: middle;\n",
       "    }\n",
       "\n",
       "    .dataframe tbody tr th {\n",
       "        vertical-align: top;\n",
       "    }\n",
       "\n",
       "    .dataframe thead th {\n",
       "        text-align: right;\n",
       "    }\n",
       "</style>\n",
       "<table border=\"1\" class=\"dataframe\">\n",
       "  <thead>\n",
       "    <tr style=\"text-align: right;\">\n",
       "      <th></th>\n",
       "      <th>genex</th>\n",
       "      <th>geney</th>\n",
       "    </tr>\n",
       "  </thead>\n",
       "  <tbody>\n",
       "  </tbody>\n",
       "</table>\n",
       "</div>"
      ],
      "text/plain": [
       "Empty DataFrame\n",
       "Columns: [genex, geney]\n",
       "Index: []"
      ]
     },
     "execution_count": 5,
     "metadata": {},
     "output_type": "execute_result"
    }
   ],
   "source": [
    "df_two=pd.DataFrame(columns=[*genes])\n",
    "df_two"
   ]
  },
  {
   "cell_type": "code",
   "execution_count": 6,
   "id": "5ae4fff9-c6fe-464b-a00b-0f9287c60953",
   "metadata": {},
   "outputs": [],
   "source": [
    "df_two['Work']=work"
   ]
  },
  {
   "cell_type": "code",
   "execution_count": 8,
   "id": "4601e90e-6e6e-403d-afbe-8196502d0fa0",
   "metadata": {},
   "outputs": [
    {
     "data": {
      "text/html": [
       "<div>\n",
       "<style scoped>\n",
       "    .dataframe tbody tr th:only-of-type {\n",
       "        vertical-align: middle;\n",
       "    }\n",
       "\n",
       "    .dataframe tbody tr th {\n",
       "        vertical-align: top;\n",
       "    }\n",
       "\n",
       "    .dataframe thead th {\n",
       "        text-align: right;\n",
       "    }\n",
       "</style>\n",
       "<table border=\"1\" class=\"dataframe\">\n",
       "  <thead>\n",
       "    <tr style=\"text-align: right;\">\n",
       "      <th></th>\n",
       "      <th>genex</th>\n",
       "      <th>geney</th>\n",
       "      <th>Work</th>\n",
       "    </tr>\n",
       "  </thead>\n",
       "  <tbody>\n",
       "    <tr>\n",
       "      <th>0</th>\n",
       "      <td>NaN</td>\n",
       "      <td>NaN</td>\n",
       "      <td>1</td>\n",
       "    </tr>\n",
       "    <tr>\n",
       "      <th>1</th>\n",
       "      <td>NaN</td>\n",
       "      <td>NaN</td>\n",
       "      <td>0</td>\n",
       "    </tr>\n",
       "    <tr>\n",
       "      <th>2</th>\n",
       "      <td>NaN</td>\n",
       "      <td>NaN</td>\n",
       "      <td>0</td>\n",
       "    </tr>\n",
       "    <tr>\n",
       "      <th>3</th>\n",
       "      <td>NaN</td>\n",
       "      <td>NaN</td>\n",
       "      <td>0</td>\n",
       "    </tr>\n",
       "    <tr>\n",
       "      <th>4</th>\n",
       "      <td>NaN</td>\n",
       "      <td>NaN</td>\n",
       "      <td>1</td>\n",
       "    </tr>\n",
       "  </tbody>\n",
       "</table>\n",
       "</div>"
      ],
      "text/plain": [
       "  genex geney  Work\n",
       "0   NaN   NaN     1\n",
       "1   NaN   NaN     0\n",
       "2   NaN   NaN     0\n",
       "3   NaN   NaN     0\n",
       "4   NaN   NaN     1"
      ]
     },
     "execution_count": 8,
     "metadata": {},
     "output_type": "execute_result"
    }
   ],
   "source": [
    "df_two.head()"
   ]
  },
  {
   "cell_type": "code",
   "execution_count": 77,
   "id": "f02443d9-9804-4f82-945c-9e1f9d8f110e",
   "metadata": {},
   "outputs": [],
   "source": [
    "# debuging \n",
    "#for i in range(20):\n",
    " #   print(df_two.index[i])\n",
    "#    break\n",
    "#print(df_two.index.shape)\n",
    "#print(len(df_two.drop('Work',axis=1)))\n",
    "#print(len(unique))\n",
    "# print(df_two)\n",
    "#print(df_two['genex'].dtype,df_two['geney'].dtype,df_two['Work'].dtype)"
   ]
  },
  {
   "cell_type": "code",
   "execution_count": 14,
   "id": "64c1a1f4-ca74-470d-b929-5098f56403c1",
   "metadata": {},
   "outputs": [],
   "source": [
    "for i in range(0,20):\n",
    "    df_two.loc[df_two.index[i],'genex']=np.random.normal(1.0,2.0,1)\n",
    "    df_two.loc[df_two.index[i],'geney']=np.random.normal(2.0,1.0,1)"
   ]
  },
  {
   "cell_type": "code",
   "execution_count": 15,
   "id": "da0eda5b-adbe-47d0-ba41-4291a45589b8",
   "metadata": {},
   "outputs": [
    {
     "data": {
      "text/html": [
       "<div>\n",
       "<style scoped>\n",
       "    .dataframe tbody tr th:only-of-type {\n",
       "        vertical-align: middle;\n",
       "    }\n",
       "\n",
       "    .dataframe tbody tr th {\n",
       "        vertical-align: top;\n",
       "    }\n",
       "\n",
       "    .dataframe thead th {\n",
       "        text-align: right;\n",
       "    }\n",
       "</style>\n",
       "<table border=\"1\" class=\"dataframe\">\n",
       "  <thead>\n",
       "    <tr style=\"text-align: right;\">\n",
       "      <th></th>\n",
       "      <th>genex</th>\n",
       "      <th>geney</th>\n",
       "      <th>Work</th>\n",
       "    </tr>\n",
       "  </thead>\n",
       "  <tbody>\n",
       "    <tr>\n",
       "      <th>0</th>\n",
       "      <td>3.470776159670441</td>\n",
       "      <td>0.5681685950554431</td>\n",
       "      <td>1</td>\n",
       "    </tr>\n",
       "    <tr>\n",
       "      <th>1</th>\n",
       "      <td>-1.3816328018294897</td>\n",
       "      <td>2.2247442097933203</td>\n",
       "      <td>0</td>\n",
       "    </tr>\n",
       "    <tr>\n",
       "      <th>2</th>\n",
       "      <td>0.7304304077634903</td>\n",
       "      <td>1.9307970957659626</td>\n",
       "      <td>0</td>\n",
       "    </tr>\n",
       "    <tr>\n",
       "      <th>3</th>\n",
       "      <td>4.485365160107141</td>\n",
       "      <td>1.351948184473263</td>\n",
       "      <td>0</td>\n",
       "    </tr>\n",
       "    <tr>\n",
       "      <th>4</th>\n",
       "      <td>1.9290367230048793</td>\n",
       "      <td>1.4111586146601085</td>\n",
       "      <td>1</td>\n",
       "    </tr>\n",
       "    <tr>\n",
       "      <th>5</th>\n",
       "      <td>0.2144941858529572</td>\n",
       "      <td>1.5904806908591707</td>\n",
       "      <td>0</td>\n",
       "    </tr>\n",
       "    <tr>\n",
       "      <th>6</th>\n",
       "      <td>0.8614100564697147</td>\n",
       "      <td>2.3989262569243044</td>\n",
       "      <td>1</td>\n",
       "    </tr>\n",
       "    <tr>\n",
       "      <th>7</th>\n",
       "      <td>0.9638595532125193</td>\n",
       "      <td>0.6520622194627006</td>\n",
       "      <td>0</td>\n",
       "    </tr>\n",
       "    <tr>\n",
       "      <th>8</th>\n",
       "      <td>2.4001630015856072</td>\n",
       "      <td>1.9549824388448047</td>\n",
       "      <td>0</td>\n",
       "    </tr>\n",
       "    <tr>\n",
       "      <th>9</th>\n",
       "      <td>2.173210911016052</td>\n",
       "      <td>0.9359575231022392</td>\n",
       "      <td>0</td>\n",
       "    </tr>\n",
       "    <tr>\n",
       "      <th>10</th>\n",
       "      <td>2.5970080318331745</td>\n",
       "      <td>1.6932989491529793</td>\n",
       "      <td>1</td>\n",
       "    </tr>\n",
       "    <tr>\n",
       "      <th>11</th>\n",
       "      <td>-0.8261056254185464</td>\n",
       "      <td>1.8176444519886839</td>\n",
       "      <td>0</td>\n",
       "    </tr>\n",
       "    <tr>\n",
       "      <th>12</th>\n",
       "      <td>1.302307056520655</td>\n",
       "      <td>0.9812358308188303</td>\n",
       "      <td>0</td>\n",
       "    </tr>\n",
       "    <tr>\n",
       "      <th>13</th>\n",
       "      <td>1.3241404645549255</td>\n",
       "      <td>1.5339429954666235</td>\n",
       "      <td>1</td>\n",
       "    </tr>\n",
       "    <tr>\n",
       "      <th>14</th>\n",
       "      <td>-0.7018783253913916</td>\n",
       "      <td>2.856964802257301</td>\n",
       "      <td>0</td>\n",
       "    </tr>\n",
       "    <tr>\n",
       "      <th>15</th>\n",
       "      <td>2.8276277072023475</td>\n",
       "      <td>3.7778475832076692</td>\n",
       "      <td>0</td>\n",
       "    </tr>\n",
       "    <tr>\n",
       "      <th>16</th>\n",
       "      <td>1.4445408292888169</td>\n",
       "      <td>2.7321752883960553</td>\n",
       "      <td>0</td>\n",
       "    </tr>\n",
       "    <tr>\n",
       "      <th>17</th>\n",
       "      <td>1.748764341962007</td>\n",
       "      <td>2.535340109830359</td>\n",
       "      <td>0</td>\n",
       "    </tr>\n",
       "    <tr>\n",
       "      <th>18</th>\n",
       "      <td>2.565358618698614</td>\n",
       "      <td>3.09393541811262</td>\n",
       "      <td>0</td>\n",
       "    </tr>\n",
       "    <tr>\n",
       "      <th>19</th>\n",
       "      <td>-0.29076147892031745</td>\n",
       "      <td>2.3875715617244206</td>\n",
       "      <td>0</td>\n",
       "    </tr>\n",
       "  </tbody>\n",
       "</table>\n",
       "</div>"
      ],
      "text/plain": [
       "                   genex               geney  Work\n",
       "0      3.470776159670441  0.5681685950554431     1\n",
       "1    -1.3816328018294897  2.2247442097933203     0\n",
       "2     0.7304304077634903  1.9307970957659626     0\n",
       "3      4.485365160107141   1.351948184473263     0\n",
       "4     1.9290367230048793  1.4111586146601085     1\n",
       "5     0.2144941858529572  1.5904806908591707     0\n",
       "6     0.8614100564697147  2.3989262569243044     1\n",
       "7     0.9638595532125193  0.6520622194627006     0\n",
       "8     2.4001630015856072  1.9549824388448047     0\n",
       "9      2.173210911016052  0.9359575231022392     0\n",
       "10    2.5970080318331745  1.6932989491529793     1\n",
       "11   -0.8261056254185464  1.8176444519886839     0\n",
       "12     1.302307056520655  0.9812358308188303     0\n",
       "13    1.3241404645549255  1.5339429954666235     1\n",
       "14   -0.7018783253913916   2.856964802257301     0\n",
       "15    2.8276277072023475  3.7778475832076692     0\n",
       "16    1.4445408292888169  2.7321752883960553     0\n",
       "17     1.748764341962007   2.535340109830359     0\n",
       "18     2.565358618698614    3.09393541811262     0\n",
       "19  -0.29076147892031745  2.3875715617244206     0"
      ]
     },
     "execution_count": 15,
     "metadata": {},
     "output_type": "execute_result"
    }
   ],
   "source": [
    "df_two"
   ]
  },
  {
   "cell_type": "code",
   "execution_count": 25,
   "id": "837af4aa-7970-41c9-8495-830dc67d2c6e",
   "metadata": {},
   "outputs": [],
   "source": [
    "x=df_two[['genex','geney']]\n",
    "y=df_two['Work']\n",
    "unique=np.unique(df_two['Work'])\n",
    "n_feature=2 # two column as input x\n",
    "n_com=min(n_feature,len(unique)-1)"
   ]
  },
  {
   "cell_type": "code",
   "execution_count": 26,
   "id": "179ab2a1-13c3-476b-88d1-6d2c6e8f2893",
   "metadata": {},
   "outputs": [],
   "source": [
    "lda=LinearDiscriminantAnalysis(n_components=n_com)\n",
    "x_lda=lda.fit_transform(x,y)"
   ]
  },
  {
   "cell_type": "code",
   "execution_count": 27,
   "id": "1a54416c-a8f2-474a-9c17-1ab7667dc014",
   "metadata": {},
   "outputs": [
    {
     "name": "stdout",
     "output_type": "stream",
     "text": [
      "[[ 2.037052  ]\n",
      " [-1.42050969]\n",
      " [-0.28438618]\n",
      " [ 1.78405126]\n",
      " [ 0.66504844]\n",
      " [-0.2060319 ]\n",
      " [-0.6339234 ]\n",
      " [ 0.91737517]\n",
      " [ 0.39223689]\n",
      " [ 1.17740806]\n",
      " [ 0.70044261]\n",
      " [-0.83689535]\n",
      " [ 0.7744997 ]\n",
      " [ 0.30633092]\n",
      " [-1.68250451]\n",
      " [-1.0033278 ]\n",
      " [-0.67810505]\n",
      " [-0.38104307]\n",
      " [-0.52229591]\n",
      " [-1.1054222 ]]\n"
     ]
    }
   ],
   "source": [
    "print(x_lda)"
   ]
  },
  {
   "cell_type": "code",
   "execution_count": 41,
   "id": "dc7846e1-d745-4573-a385-aa019b57aedf",
   "metadata": {},
   "outputs": [],
   "source": [
    "df_two['genex']=df_two['genex'].astype(float)\n",
    "df_two['geney']=df_two['geney'].astype(float)\n",
    "unique_count=df_two.groupby(['Work'])[['genex','geney']].value_counts()"
   ]
  },
  {
   "cell_type": "code",
   "execution_count": 59,
   "id": "b00d67f1-2cc9-414a-a387-41c218fb46d2",
   "metadata": {},
   "outputs": [
    {
     "name": "stdout",
     "output_type": "stream",
     "text": [
      "-1.3816328018294897\n",
      "[[ 2.037052  ]\n",
      " [-1.42050969]\n",
      " [-0.28438618]\n",
      " [ 1.78405126]\n",
      " [ 0.66504844]\n",
      " [-0.2060319 ]\n",
      " [-0.6339234 ]\n",
      " [ 0.91737517]\n",
      " [ 0.39223689]\n",
      " [ 1.17740806]\n",
      " [ 0.70044261]\n",
      " [-0.83689535]\n",
      " [ 0.7744997 ]\n",
      " [ 0.30633092]\n",
      " [-1.68250451]\n",
      " [-1.0033278 ]\n",
      " [-0.67810505]\n",
      " [-0.38104307]\n",
      " [-0.52229591]\n",
      " [-1.1054222 ]]\n"
     ]
    }
   ],
   "source": [
    "#unique_count[0].index  \n",
    "for i in unique_count[0].index:\n",
    "    print(i[0])\n",
    "    break\n",
    "\n",
    "print(x_lda)"
   ]
  },
  {
   "cell_type": "code",
   "execution_count": 56,
   "id": "729351aa-3297-47be-8af0-21d6d707e8cf",
   "metadata": {},
   "outputs": [],
   "source": [
    "genex_nw=[]\n",
    "geney_nw=[]\n",
    "for val in unique_count[0].index:\n",
    "    genex_nw.append(val[0])\n",
    "    geney_nw.append(val[1])\n",
    "\n",
    "genex_w=[]\n",
    "geney_w=[]\n",
    "for val in unique_count[1].index:\n",
    "    genex_w.append(val[0])\n",
    "    geney_w.append(val[1])"
   ]
  },
  {
   "cell_type": "code",
   "execution_count": 70,
   "id": "26cf055a-84f6-46b8-b802-6218805f6616",
   "metadata": {},
   "outputs": [
    {
     "name": "stdout",
     "output_type": "stream",
     "text": [
      "[ 2.037052    0.66504844 -0.6339234   0.70044261  0.30633092]\n",
      "[0. 0. 0. 0. 0.]\n",
      "1\n"
     ]
    }
   ],
   "source": [
    "print(x_lda[y==class_label,0])\n",
    "print(np.zeros_like(x_lda[y == class_label, 0]))\n",
    "print(class_label)"
   ]
  },
  {
   "cell_type": "code",
   "execution_count": 76,
   "id": "61b6a576-3fed-4c43-aba5-5665cf5ebc16",
   "metadata": {},
   "outputs": [
    {
     "data": {
      "image/png": "[encoded data removed]",
      "text/plain": [
       "<Figure size 1000x600 with 2 Axes>"
      ]
     },
     "metadata": {},
     "output_type": "display_data"
    }
   ],
   "source": [
    "fig,ax=plt.subplots(ncols=2,figsize=(10,6),sharex=False,sharey=False)\n",
    "\n",
    "sns.scatterplot(x=genex_w,y=geney_w,color='tab:orange',label='Durg Worked',ax=ax[0]) #work\n",
    "sns.scatterplot(x=genex_nw,y=geney_nw,color='tab:blue',label='Drug Not Worked',ax=ax[0]) # not work \n",
    "ax[0].set(xlabel='Genex',ylabel='Geney',title='Dissorted Data')\n",
    "ax[0].legend()\n",
    "\n",
    "\n",
    "for class_label in np.unique(y):\n",
    "    ax[1].scatter(x=x_lda[y==class_label,0],y=np.zeros_like(x_lda[y==class_label,0]),  label=f'Class {class_label}',alpha=0.7,edgecolors='k')\n",
    "\n",
    "ax[1].set(xlabel='LD1',ylabel='LD2',title='Seperated Data')\n",
    "ax[1].legend()\n",
    "plt.suptitle('LDA: Linear Discriminant Analysis Projection')\n",
    "plt.show()\n"
   ]
  },
  {
   "cell_type": "code",
   "execution_count": null,
   "id": "ef0b84f1-ddc5-46a0-ad0e-d796c4e717ea",
   "metadata": {},
   "outputs": [],
   "source": []
  }
 ],
 "metadata": {
  "kernelspec": {
   "display_name": "Python 3 (ipykernel)",
   "language": "python",
   "name": "python3"
  },
  "language_info": {
   "codemirror_mode": {
    "name": "ipython",
    "version": 3
   },
   "file_extension": ".py",
   "mimetype": "text/x-python",
   "name": "python",
   "nbconvert_exporter": "python",
   "pygments_lexer": "ipython3",
   "version": "3.12.5"
  }
 },
 "nbformat": 4,
 "nbformat_minor": 5
}
