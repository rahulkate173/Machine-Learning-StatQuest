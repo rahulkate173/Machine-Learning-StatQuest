{
 "cells": [
  {
   "cell_type": "markdown",
   "id": "40074de1-6198-44df-ab96-b230238211aa",
   "metadata": {},
   "source": [
    "# Encoding "
   ]
  },
  {
   "cell_type": "code",
   "execution_count": 1,
   "id": "0e211ad2-a2a7-49c5-b683-12e121150e8d",
   "metadata": {},
   "outputs": [],
   "source": [
    "import pandas as pd\n",
    "import numpy as np"
   ]
  },
  {
   "cell_type": "code",
   "execution_count": 2,
   "id": "b14d588a-c7c0-4e9a-ada5-2e6b745c1790",
   "metadata": {},
   "outputs": [],
   "source": [
    "data={'Favourite Color':['Blue','Red','Green','Blue','Green','Green','Blue'],\n",
    "      'Height (cm)':[1.77,1.32,146,1.56,1.77,1.89,1.34],\n",
    "      'Loves Troll2':[1,0,1,0,1,0,0]}"
   ]
  },
  {
   "cell_type": "code",
   "execution_count": 3,
   "id": "cc662456-866f-44a5-9471-ac65a2c6a5ac",
   "metadata": {},
   "outputs": [],
   "source": [
    "df=pd.DataFrame(data)"
   ]
  },
  {
   "cell_type": "code",
   "execution_count": 4,
   "id": "ab17cd76-2ec6-4cb0-97b7-3d05541b923d",
   "metadata": {},
   "outputs": [
    {
     "data": {
      "text/html": [
       "<div>\n",
       "<style scoped>\n",
       "    .dataframe tbody tr th:only-of-type {\n",
       "        vertical-align: middle;\n",
       "    }\n",
       "\n",
       "    .dataframe tbody tr th {\n",
       "        vertical-align: top;\n",
       "    }\n",
       "\n",
       "    .dataframe thead th {\n",
       "        text-align: right;\n",
       "    }\n",
       "</style>\n",
       "<table border=\"1\" class=\"dataframe\">\n",
       "  <thead>\n",
       "    <tr style=\"text-align: right;\">\n",
       "      <th></th>\n",
       "      <th>Favourite Color</th>\n",
       "      <th>Height (cm)</th>\n",
       "      <th>Loves Troll2</th>\n",
       "    </tr>\n",
       "  </thead>\n",
       "  <tbody>\n",
       "    <tr>\n",
       "      <th>0</th>\n",
       "      <td>Blue</td>\n",
       "      <td>1.77</td>\n",
       "      <td>1</td>\n",
       "    </tr>\n",
       "    <tr>\n",
       "      <th>1</th>\n",
       "      <td>Red</td>\n",
       "      <td>1.32</td>\n",
       "      <td>0</td>\n",
       "    </tr>\n",
       "    <tr>\n",
       "      <th>2</th>\n",
       "      <td>Green</td>\n",
       "      <td>146.00</td>\n",
       "      <td>1</td>\n",
       "    </tr>\n",
       "    <tr>\n",
       "      <th>3</th>\n",
       "      <td>Blue</td>\n",
       "      <td>1.56</td>\n",
       "      <td>0</td>\n",
       "    </tr>\n",
       "    <tr>\n",
       "      <th>4</th>\n",
       "      <td>Green</td>\n",
       "      <td>1.77</td>\n",
       "      <td>1</td>\n",
       "    </tr>\n",
       "    <tr>\n",
       "      <th>5</th>\n",
       "      <td>Green</td>\n",
       "      <td>1.89</td>\n",
       "      <td>0</td>\n",
       "    </tr>\n",
       "    <tr>\n",
       "      <th>6</th>\n",
       "      <td>Blue</td>\n",
       "      <td>1.34</td>\n",
       "      <td>0</td>\n",
       "    </tr>\n",
       "  </tbody>\n",
       "</table>\n",
       "</div>"
      ],
      "text/plain": [
       "  Favourite Color  Height (cm)  Loves Troll2\n",
       "0            Blue         1.77             1\n",
       "1             Red         1.32             0\n",
       "2           Green       146.00             1\n",
       "3            Blue         1.56             0\n",
       "4           Green         1.77             1\n",
       "5           Green         1.89             0\n",
       "6            Blue         1.34             0"
      ]
     },
     "execution_count": 4,
     "metadata": {},
     "output_type": "execute_result"
    }
   ],
   "source": [
    "df"
   ]
  },
  {
   "cell_type": "markdown",
   "id": "ed48491a-e025-4252-a760-2455bd5098b5",
   "metadata": {},
   "source": [
    "## One-Hot Encoding\n",
    "#### Most common way to convert the discrete feature into numerical values.\n",
    "#### It basically assign each unique discrete variable as new feature"
   ]
  },
  {
   "cell_type": "code",
   "execution_count": 5,
   "id": "c2865a7c-ca43-44f8-bf5b-e37f7229d124",
   "metadata": {},
   "outputs": [],
   "source": [
    "def oneHot(df,label):\n",
    "    df_onehot=pd.DataFrame()\n",
    "    for val in df[label]:\n",
    "        df_onehot[val+'_']=np.where(df[label]==val,1,0)\n",
    "    return df_onehot"
   ]
  },
  {
   "cell_type": "code",
   "execution_count": 6,
   "id": "a9638844-3feb-4a24-8c28-00569a34430f",
   "metadata": {},
   "outputs": [
    {
     "data": {
      "text/html": [
       "<div>\n",
       "<style scoped>\n",
       "    .dataframe tbody tr th:only-of-type {\n",
       "        vertical-align: middle;\n",
       "    }\n",
       "\n",
       "    .dataframe tbody tr th {\n",
       "        vertical-align: top;\n",
       "    }\n",
       "\n",
       "    .dataframe thead th {\n",
       "        text-align: right;\n",
       "    }\n",
       "</style>\n",
       "<table border=\"1\" class=\"dataframe\">\n",
       "  <thead>\n",
       "    <tr style=\"text-align: right;\">\n",
       "      <th></th>\n",
       "      <th>Blue_</th>\n",
       "      <th>Red_</th>\n",
       "      <th>Green_</th>\n",
       "    </tr>\n",
       "  </thead>\n",
       "  <tbody>\n",
       "    <tr>\n",
       "      <th>0</th>\n",
       "      <td>1</td>\n",
       "      <td>0</td>\n",
       "      <td>0</td>\n",
       "    </tr>\n",
       "    <tr>\n",
       "      <th>1</th>\n",
       "      <td>0</td>\n",
       "      <td>1</td>\n",
       "      <td>0</td>\n",
       "    </tr>\n",
       "    <tr>\n",
       "      <th>2</th>\n",
       "      <td>0</td>\n",
       "      <td>0</td>\n",
       "      <td>1</td>\n",
       "    </tr>\n",
       "    <tr>\n",
       "      <th>3</th>\n",
       "      <td>1</td>\n",
       "      <td>0</td>\n",
       "      <td>0</td>\n",
       "    </tr>\n",
       "    <tr>\n",
       "      <th>4</th>\n",
       "      <td>0</td>\n",
       "      <td>0</td>\n",
       "      <td>1</td>\n",
       "    </tr>\n",
       "    <tr>\n",
       "      <th>5</th>\n",
       "      <td>0</td>\n",
       "      <td>0</td>\n",
       "      <td>1</td>\n",
       "    </tr>\n",
       "    <tr>\n",
       "      <th>6</th>\n",
       "      <td>1</td>\n",
       "      <td>0</td>\n",
       "      <td>0</td>\n",
       "    </tr>\n",
       "  </tbody>\n",
       "</table>\n",
       "</div>"
      ],
      "text/plain": [
       "   Blue_  Red_  Green_\n",
       "0      1     0       0\n",
       "1      0     1       0\n",
       "2      0     0       1\n",
       "3      1     0       0\n",
       "4      0     0       1\n",
       "5      0     0       1\n",
       "6      1     0       0"
      ]
     },
     "execution_count": 6,
     "metadata": {},
     "output_type": "execute_result"
    }
   ],
   "source": [
    "onehot_df=oneHot(df,'Favourite Color')\n",
    "onehot_df"
   ]
  },
  {
   "cell_type": "markdown",
   "id": "45c03fe5-fcd8-4a23-9a50-e23c2dbf69a1",
   "metadata": {},
   "source": [
    "## Label Encoding \n",
    "#### Giving just oredr based rank for unique label randomly"
   ]
  },
  {
   "cell_type": "code",
   "execution_count": 7,
   "id": "1bc2f71b-558a-444c-91d9-6c242ac09caa",
   "metadata": {},
   "outputs": [],
   "source": [
    "def label_encoding(df, label):\n",
    "    df_encoded = df.copy()\n",
    "    unique_vals = df[label].unique()\n",
    "    mapping = {val: idx for idx, val in enumerate(unique_vals)}\n",
    "    df_encoded[label + '_encoded'] = df[label].map(mapping)\n",
    "    return df_encoded"
   ]
  },
  {
   "cell_type": "code",
   "execution_count": 8,
   "id": "b41b7648-4df6-4925-bcf6-6c4c05dbfdde",
   "metadata": {},
   "outputs": [
    {
     "data": {
      "text/html": [
       "<div>\n",
       "<style scoped>\n",
       "    .dataframe tbody tr th:only-of-type {\n",
       "        vertical-align: middle;\n",
       "    }\n",
       "\n",
       "    .dataframe tbody tr th {\n",
       "        vertical-align: top;\n",
       "    }\n",
       "\n",
       "    .dataframe thead th {\n",
       "        text-align: right;\n",
       "    }\n",
       "</style>\n",
       "<table border=\"1\" class=\"dataframe\">\n",
       "  <thead>\n",
       "    <tr style=\"text-align: right;\">\n",
       "      <th></th>\n",
       "      <th>Favourite Color</th>\n",
       "      <th>Height (cm)</th>\n",
       "      <th>Loves Troll2</th>\n",
       "      <th>Favourite Color_encoded</th>\n",
       "    </tr>\n",
       "  </thead>\n",
       "  <tbody>\n",
       "    <tr>\n",
       "      <th>0</th>\n",
       "      <td>Blue</td>\n",
       "      <td>1.77</td>\n",
       "      <td>1</td>\n",
       "      <td>0</td>\n",
       "    </tr>\n",
       "    <tr>\n",
       "      <th>1</th>\n",
       "      <td>Red</td>\n",
       "      <td>1.32</td>\n",
       "      <td>0</td>\n",
       "      <td>1</td>\n",
       "    </tr>\n",
       "    <tr>\n",
       "      <th>2</th>\n",
       "      <td>Green</td>\n",
       "      <td>146.00</td>\n",
       "      <td>1</td>\n",
       "      <td>2</td>\n",
       "    </tr>\n",
       "    <tr>\n",
       "      <th>3</th>\n",
       "      <td>Blue</td>\n",
       "      <td>1.56</td>\n",
       "      <td>0</td>\n",
       "      <td>0</td>\n",
       "    </tr>\n",
       "    <tr>\n",
       "      <th>4</th>\n",
       "      <td>Green</td>\n",
       "      <td>1.77</td>\n",
       "      <td>1</td>\n",
       "      <td>2</td>\n",
       "    </tr>\n",
       "    <tr>\n",
       "      <th>5</th>\n",
       "      <td>Green</td>\n",
       "      <td>1.89</td>\n",
       "      <td>0</td>\n",
       "      <td>2</td>\n",
       "    </tr>\n",
       "    <tr>\n",
       "      <th>6</th>\n",
       "      <td>Blue</td>\n",
       "      <td>1.34</td>\n",
       "      <td>0</td>\n",
       "      <td>0</td>\n",
       "    </tr>\n",
       "  </tbody>\n",
       "</table>\n",
       "</div>"
      ],
      "text/plain": [
       "  Favourite Color  Height (cm)  Loves Troll2  Favourite Color_encoded\n",
       "0            Blue         1.77             1                        0\n",
       "1             Red         1.32             0                        1\n",
       "2           Green       146.00             1                        2\n",
       "3            Blue         1.56             0                        0\n",
       "4           Green         1.77             1                        2\n",
       "5           Green         1.89             0                        2\n",
       "6            Blue         1.34             0                        0"
      ]
     },
     "execution_count": 8,
     "metadata": {},
     "output_type": "execute_result"
    }
   ],
   "source": [
    "label_encoding(df,'Favourite Color')"
   ]
  },
  {
   "cell_type": "markdown",
   "id": "a99ab715-90ce-44b9-8785-48c106e0565e",
   "metadata": {},
   "source": [
    "## Target Label Encoding\n",
    "#### Instead of giving random rank to variable we calculate the mean of the target which we want to predict"
   ]
  },
  {
   "cell_type": "code",
   "execution_count": 9,
   "id": "34273b96-16cd-4f9c-890b-fb634fe1fbe3",
   "metadata": {},
   "outputs": [
    {
     "data": {
      "text/plain": [
       "Index(['Red', 'Blue', 'Green'], dtype='object', name='Favourite Color')"
      ]
     },
     "execution_count": 9,
     "metadata": {},
     "output_type": "execute_result"
    }
   ],
   "source": [
    "df.groupby('Favourite Color')['Loves Troll2'].mean().sort_values().index"
   ]
  },
  {
   "cell_type": "code",
   "execution_count": 10,
   "id": "6468f7e1-c120-4763-98ca-997e7e8180e4",
   "metadata": {},
   "outputs": [],
   "source": [
    "def target_guided_mean_encoding(df, feature, target):\n",
    "    # Calculate mean of the target for each category\n",
    "    mean_target = df.groupby(feature)[target].mean()\n",
    "    df[feature + '_mean_encoded'] = df[feature].map(mean_target)\n",
    "    \n",
    "    return df"
   ]
  },
  {
   "cell_type": "code",
   "execution_count": 11,
   "id": "40dfcd0e-e069-4513-b500-09c84c406f3a",
   "metadata": {},
   "outputs": [
    {
     "data": {
      "text/html": [
       "<div>\n",
       "<style scoped>\n",
       "    .dataframe tbody tr th:only-of-type {\n",
       "        vertical-align: middle;\n",
       "    }\n",
       "\n",
       "    .dataframe tbody tr th {\n",
       "        vertical-align: top;\n",
       "    }\n",
       "\n",
       "    .dataframe thead th {\n",
       "        text-align: right;\n",
       "    }\n",
       "</style>\n",
       "<table border=\"1\" class=\"dataframe\">\n",
       "  <thead>\n",
       "    <tr style=\"text-align: right;\">\n",
       "      <th></th>\n",
       "      <th>Favourite Color</th>\n",
       "      <th>Height (cm)</th>\n",
       "      <th>Loves Troll2</th>\n",
       "      <th>Favourite Color_mean_encoded</th>\n",
       "    </tr>\n",
       "  </thead>\n",
       "  <tbody>\n",
       "    <tr>\n",
       "      <th>0</th>\n",
       "      <td>Blue</td>\n",
       "      <td>1.77</td>\n",
       "      <td>1</td>\n",
       "      <td>0.333333</td>\n",
       "    </tr>\n",
       "    <tr>\n",
       "      <th>1</th>\n",
       "      <td>Red</td>\n",
       "      <td>1.32</td>\n",
       "      <td>0</td>\n",
       "      <td>0.000000</td>\n",
       "    </tr>\n",
       "    <tr>\n",
       "      <th>2</th>\n",
       "      <td>Green</td>\n",
       "      <td>146.00</td>\n",
       "      <td>1</td>\n",
       "      <td>0.666667</td>\n",
       "    </tr>\n",
       "    <tr>\n",
       "      <th>3</th>\n",
       "      <td>Blue</td>\n",
       "      <td>1.56</td>\n",
       "      <td>0</td>\n",
       "      <td>0.333333</td>\n",
       "    </tr>\n",
       "    <tr>\n",
       "      <th>4</th>\n",
       "      <td>Green</td>\n",
       "      <td>1.77</td>\n",
       "      <td>1</td>\n",
       "      <td>0.666667</td>\n",
       "    </tr>\n",
       "    <tr>\n",
       "      <th>5</th>\n",
       "      <td>Green</td>\n",
       "      <td>1.89</td>\n",
       "      <td>0</td>\n",
       "      <td>0.666667</td>\n",
       "    </tr>\n",
       "    <tr>\n",
       "      <th>6</th>\n",
       "      <td>Blue</td>\n",
       "      <td>1.34</td>\n",
       "      <td>0</td>\n",
       "      <td>0.333333</td>\n",
       "    </tr>\n",
       "  </tbody>\n",
       "</table>\n",
       "</div>"
      ],
      "text/plain": [
       "  Favourite Color  Height (cm)  Loves Troll2  Favourite Color_mean_encoded\n",
       "0            Blue         1.77             1                      0.333333\n",
       "1             Red         1.32             0                      0.000000\n",
       "2           Green       146.00             1                      0.666667\n",
       "3            Blue         1.56             0                      0.333333\n",
       "4           Green         1.77             1                      0.666667\n",
       "5           Green         1.89             0                      0.666667\n",
       "6            Blue         1.34             0                      0.333333"
      ]
     },
     "execution_count": 11,
     "metadata": {},
     "output_type": "execute_result"
    }
   ],
   "source": [
    "target_guided_mean_encoding(df,'Favourite Color','Loves Troll2')"
   ]
  },
  {
   "attachments": {
    "b4109933-dba6-4cb7-b69c-1d7043fa9384.png": {
     "image/png": "[encoded data removed]"
    }
   },
   "cell_type": "markdown",
   "id": "a45f61fa-f2a8-4c42-9ee8-ac2aefa6a148",
   "metadata": {},
   "source": [
    "## Bayesian Mean Encoding\n",
    "#### similar to target mean encoding but here weighted mean is used \n",
    "![{2195E7A0-14A7-4EBF-B585-BEDE1B41196D}.png](attachment:b4109933-dba6-4cb7-b69c-1d7043fa9384.png)"
   ]
  },
  {
   "cell_type": "code",
   "execution_count": 12,
   "id": "53a6efcb-2bfb-473e-a46a-6b80cc66d6ff",
   "metadata": {},
   "outputs": [],
   "source": [
    "mean=df.groupby('Favourite Color')['Loves Troll2'].mean()\n",
    "n=df.groupby('Favourite Color')['Loves Troll2'].value_counts()"
   ]
  },
  {
   "cell_type": "code",
   "execution_count": 13,
   "id": "bba2377a-d39e-4ec5-beff-3ff8d58f4b11",
   "metadata": {},
   "outputs": [
    {
     "name": "stdout",
     "output_type": "stream",
     "text": [
      "Favourite Color\n",
      "Blue     0.333333\n",
      "Green    0.666667\n",
      "Red      0.000000\n",
      "Name: Loves Troll2, dtype: float64\n",
      "Favourite Color  Loves Troll2\n",
      "Blue             0               2\n",
      "                 1               1\n",
      "Green            1               2\n",
      "                 0               1\n",
      "Red              0               1\n",
      "Name: count, dtype: int64\n"
     ]
    }
   ],
   "source": [
    "print(mean)\n",
    "print(n)"
   ]
  },
  {
   "cell_type": "code",
   "execution_count": 14,
   "id": "90165811-c34c-4b11-bf59-82a6086a24b7",
   "metadata": {},
   "outputs": [
    {
     "data": {
      "text/html": [
       "<div>\n",
       "<style scoped>\n",
       "    .dataframe tbody tr th:only-of-type {\n",
       "        vertical-align: middle;\n",
       "    }\n",
       "\n",
       "    .dataframe tbody tr th {\n",
       "        vertical-align: top;\n",
       "    }\n",
       "\n",
       "    .dataframe thead th {\n",
       "        text-align: right;\n",
       "    }\n",
       "</style>\n",
       "<table border=\"1\" class=\"dataframe\">\n",
       "  <thead>\n",
       "    <tr style=\"text-align: right;\">\n",
       "      <th></th>\n",
       "      <th>mean</th>\n",
       "      <th>count</th>\n",
       "    </tr>\n",
       "    <tr>\n",
       "      <th>Favourite Color</th>\n",
       "      <th></th>\n",
       "      <th></th>\n",
       "    </tr>\n",
       "  </thead>\n",
       "  <tbody>\n",
       "    <tr>\n",
       "      <th>Blue</th>\n",
       "      <td>0.333333</td>\n",
       "      <td>3</td>\n",
       "    </tr>\n",
       "    <tr>\n",
       "      <th>Green</th>\n",
       "      <td>0.666667</td>\n",
       "      <td>3</td>\n",
       "    </tr>\n",
       "    <tr>\n",
       "      <th>Red</th>\n",
       "      <td>0.000000</td>\n",
       "      <td>1</td>\n",
       "    </tr>\n",
       "  </tbody>\n",
       "</table>\n",
       "</div>"
      ],
      "text/plain": [
       "                     mean  count\n",
       "Favourite Color                 \n",
       "Blue             0.333333      3\n",
       "Green            0.666667      3\n",
       "Red              0.000000      1"
      ]
     },
     "execution_count": 14,
     "metadata": {},
     "output_type": "execute_result"
    }
   ],
   "source": [
    "df.groupby(['Favourite Color'])['Loves Troll2'].agg(['mean','count'])"
   ]
  },
  {
   "cell_type": "code",
   "execution_count": 15,
   "id": "3979c70c-e624-4f1b-8cd8-b9dbfc483cb2",
   "metadata": {},
   "outputs": [],
   "source": [
    "def bayesian_encoding(df,feature,target,m=2):\n",
    "    encoded_df=df.copy()\n",
    "    overall_mean=df[target].mean()\n",
    "    agg=df.groupby(feature)[target].agg(['mean','count'])\n",
    "    weighted_mean=((agg['count']*agg['mean'] + m*overall_mean)/(agg['count']+m))\n",
    "    encoded_df[feature+'_encoded']=encoded_df[feature].map(weighted_mean)\n",
    "    return encoded_df\n",
    "    "
   ]
  },
  {
   "cell_type": "code",
   "execution_count": 16,
   "id": "643ceec9-c728-4e8c-8d71-c33b048db764",
   "metadata": {},
   "outputs": [
    {
     "data": {
      "text/html": [
       "<div>\n",
       "<style scoped>\n",
       "    .dataframe tbody tr th:only-of-type {\n",
       "        vertical-align: middle;\n",
       "    }\n",
       "\n",
       "    .dataframe tbody tr th {\n",
       "        vertical-align: top;\n",
       "    }\n",
       "\n",
       "    .dataframe thead th {\n",
       "        text-align: right;\n",
       "    }\n",
       "</style>\n",
       "<table border=\"1\" class=\"dataframe\">\n",
       "  <thead>\n",
       "    <tr style=\"text-align: right;\">\n",
       "      <th></th>\n",
       "      <th>Favourite Color</th>\n",
       "      <th>Height (cm)</th>\n",
       "      <th>Loves Troll2</th>\n",
       "      <th>Favourite Color_mean_encoded</th>\n",
       "      <th>Favourite Color_encoded</th>\n",
       "    </tr>\n",
       "  </thead>\n",
       "  <tbody>\n",
       "    <tr>\n",
       "      <th>0</th>\n",
       "      <td>Blue</td>\n",
       "      <td>1.77</td>\n",
       "      <td>1</td>\n",
       "      <td>0.333333</td>\n",
       "      <td>0.371429</td>\n",
       "    </tr>\n",
       "    <tr>\n",
       "      <th>1</th>\n",
       "      <td>Red</td>\n",
       "      <td>1.32</td>\n",
       "      <td>0</td>\n",
       "      <td>0.000000</td>\n",
       "      <td>0.285714</td>\n",
       "    </tr>\n",
       "    <tr>\n",
       "      <th>2</th>\n",
       "      <td>Green</td>\n",
       "      <td>146.00</td>\n",
       "      <td>1</td>\n",
       "      <td>0.666667</td>\n",
       "      <td>0.571429</td>\n",
       "    </tr>\n",
       "    <tr>\n",
       "      <th>3</th>\n",
       "      <td>Blue</td>\n",
       "      <td>1.56</td>\n",
       "      <td>0</td>\n",
       "      <td>0.333333</td>\n",
       "      <td>0.371429</td>\n",
       "    </tr>\n",
       "    <tr>\n",
       "      <th>4</th>\n",
       "      <td>Green</td>\n",
       "      <td>1.77</td>\n",
       "      <td>1</td>\n",
       "      <td>0.666667</td>\n",
       "      <td>0.571429</td>\n",
       "    </tr>\n",
       "    <tr>\n",
       "      <th>5</th>\n",
       "      <td>Green</td>\n",
       "      <td>1.89</td>\n",
       "      <td>0</td>\n",
       "      <td>0.666667</td>\n",
       "      <td>0.571429</td>\n",
       "    </tr>\n",
       "    <tr>\n",
       "      <th>6</th>\n",
       "      <td>Blue</td>\n",
       "      <td>1.34</td>\n",
       "      <td>0</td>\n",
       "      <td>0.333333</td>\n",
       "      <td>0.371429</td>\n",
       "    </tr>\n",
       "  </tbody>\n",
       "</table>\n",
       "</div>"
      ],
      "text/plain": [
       "  Favourite Color  Height (cm)  Loves Troll2  Favourite Color_mean_encoded  \\\n",
       "0            Blue         1.77             1                      0.333333   \n",
       "1             Red         1.32             0                      0.000000   \n",
       "2           Green       146.00             1                      0.666667   \n",
       "3            Blue         1.56             0                      0.333333   \n",
       "4           Green         1.77             1                      0.666667   \n",
       "5           Green         1.89             0                      0.666667   \n",
       "6            Blue         1.34             0                      0.333333   \n",
       "\n",
       "   Favourite Color_encoded  \n",
       "0                 0.371429  \n",
       "1                 0.285714  \n",
       "2                 0.571429  \n",
       "3                 0.371429  \n",
       "4                 0.571429  \n",
       "5                 0.571429  \n",
       "6                 0.371429  "
      ]
     },
     "execution_count": 16,
     "metadata": {},
     "output_type": "execute_result"
    }
   ],
   "source": [
    "bayesian_encoding(df,'Favourite Color','Loves Troll2',2)"
   ]
  },
  {
   "cell_type": "markdown",
   "id": "ccecce0c-4a76-4a25-b05d-6585d3db225c",
   "metadata": {},
   "source": [
    "## K-Fold Encoding\n",
    "#### Here in this type encoding is achive similarly like the target guided weighted mean encoding i.e Bayesian Encoding but here the weighted mean is calculated of the other subset \n",
    "#### Here the K -> number of subset that we will create"
   ]
  },
  {
   "cell_type": "code",
   "execution_count": 21,
   "id": "08ebaf5f-4981-4ea5-aa8d-436ba09e04ee",
   "metadata": {},
   "outputs": [
    {
     "name": "stdout",
     "output_type": "stream",
     "text": [
      "[['Blue' 1.77 1 0.3333333333333333]\n",
      " ['Red' 1.32 0 0.0]\n",
      " ['Green' 146.0 1 0.6666666666666666]\n",
      " ['Blue' 1.56 0 0.3333333333333333]\n",
      " ['Green' 1.77 1 0.6666666666666666]\n",
      " ['Green' 1.89 0 0.6666666666666666]\n",
      " ['Blue' 1.34 0 0.3333333333333333]]\n"
     ]
    }
   ],
   "source": [
    "array=df.to_numpy()\n",
    "print(array)"
   ]
  },
  {
   "cell_type": "code",
   "execution_count": 22,
   "id": "c4061f72-e62c-4ad5-af88-10a15a5d8efd",
   "metadata": {},
   "outputs": [
    {
     "name": "stdout",
     "output_type": "stream",
     "text": [
      "(7, 4)\n"
     ]
    }
   ],
   "source": [
    "print(array.shape)"
   ]
  },
  {
   "cell_type": "code",
   "execution_count": 28,
   "id": "70c0768e-11ec-424f-96e5-4925bb2a7966",
   "metadata": {},
   "outputs": [
    {
     "name": "stdout",
     "output_type": "stream",
     "text": [
      "4\n",
      "[['Blue' 1.77 1 0.3333333333333333]\n",
      " ['Red' 1.32 0 0.0]\n",
      " ['Green' 146.0 1 0.6666666666666666]\n",
      " ['Blue' 1.56 0 0.3333333333333333]]\n",
      "[['Green' 1.77 1 0.6666666666666666]\n",
      " ['Green' 1.89 0 0.6666666666666666]\n",
      " ['Blue' 1.34 0 0.3333333333333333]]\n"
     ]
    }
   ],
   "source": [
    "row=int(np.ceil(array.shape[0]/2))\n",
    "print(row)\n",
    "\n",
    "sub1=array[0:row]\n",
    "sub2=array[row:array.shape[0]]\n",
    "print(sub1,end='\\n')\n",
    "print(sub2)"
   ]
  },
  {
   "cell_type": "code",
   "execution_count": 29,
   "id": "30afc279-ab1a-477f-b20f-8fa0b11f6df7",
   "metadata": {},
   "outputs": [],
   "source": [
    "from sklearn.model_selection import KFold"
   ]
  },
  {
   "cell_type": "code",
   "execution_count": 34,
   "id": "66a2531d-3679-419b-b206-b8531091d8d4",
   "metadata": {},
   "outputs": [
    {
     "name": "stdout",
     "output_type": "stream",
     "text": [
      "KFold(n_splits=2, random_state=None, shuffle=False)\n"
     ]
    }
   ],
   "source": [
    "kf=KFold(n_splits=2,shuffle=False,random_state=None)\n",
    "print(kf)"
   ]
  },
  {
   "cell_type": "code",
   "execution_count": 35,
   "id": "d7e48649-92dd-4a2c-8763-2eab895760a5",
   "metadata": {},
   "outputs": [
    {
     "name": "stdout",
     "output_type": "stream",
     "text": [
      "  Favourite Color  Height (cm)  Loves Troll2  Favourite Color_mean_encoded\n",
      "4           Green         1.77             1                      0.666667\n",
      "5           Green         1.89             0                      0.666667\n",
      "6            Blue         1.34             0                      0.333333\n",
      "  Favourite Color  Height (cm)  Loves Troll2  Favourite Color_mean_encoded\n",
      "0            Blue         1.77             1                      0.333333\n",
      "1             Red         1.32             0                      0.000000\n",
      "2           Green       146.00             1                      0.666667\n",
      "3            Blue         1.56             0                      0.333333\n",
      "  Favourite Color  Height (cm)  Loves Troll2  Favourite Color_mean_encoded\n",
      "0            Blue         1.77             1                      0.333333\n",
      "1             Red         1.32             0                      0.000000\n",
      "2           Green       146.00             1                      0.666667\n",
      "3            Blue         1.56             0                      0.333333\n",
      "  Favourite Color  Height (cm)  Loves Troll2  Favourite Color_mean_encoded\n",
      "4           Green         1.77             1                      0.666667\n",
      "5           Green         1.89             0                      0.666667\n",
      "6            Blue         1.34             0                      0.333333\n"
     ]
    }
   ],
   "source": [
    "for train_idx, val_idx in kf.split(df):\n",
    "    train_fold, val_fold = df.iloc[train_idx], df.iloc[val_idx]\n",
    "    print(train_fold)\n",
    "    print(val_fold)"
   ]
  },
  {
   "cell_type": "code",
   "execution_count": 36,
   "id": "671680b2-5c33-4eca-b022-680a8511feb2",
   "metadata": {},
   "outputs": [
    {
     "data": {
      "text/plain": [
       "<generator object _BaseKFold.split at 0x0000019E63703CD0>"
      ]
     },
     "execution_count": 36,
     "metadata": {},
     "output_type": "execute_result"
    }
   ],
   "source": [
    "kf.split(df)"
   ]
  },
  {
   "cell_type": "code",
   "execution_count": 37,
   "id": "474585a3-b287-4937-9355-0c95cdf35b94",
   "metadata": {},
   "outputs": [
    {
     "name": "stdout",
     "output_type": "stream",
     "text": [
      "[4 5 6]\n",
      "[0 1 2 3]\n",
      "[0 1 2 3]\n",
      "[4 5 6]\n"
     ]
    }
   ],
   "source": [
    "for train_idx, val_idx in kf.split(df):\n",
    "    print(train_idx)\n",
    "    print(val_idx)"
   ]
  },
  {
   "cell_type": "code",
   "execution_count": 63,
   "id": "a1226c7c-95c4-4d1e-9ca2-e0a5c614dcfc",
   "metadata": {},
   "outputs": [],
   "source": [
    "def kfold_encoding(df, feature, target, folds=5, smoothing=5, seed=42):\n",
    "    df = df.copy()\n",
    "    kf = KFold(n_splits=folds, shuffle=True, random_state=seed)\n",
    "    \n",
    "    encoded_col = pd.Series(index=df.index, dtype=float)\n",
    "    \n",
    "    for train_idx, val_idx in kf.split(df):\n",
    "        train_fold = df.iloc[train_idx]\n",
    "        val_fold = df.iloc[val_idx]\n",
    "        \n",
    "        # Compute category mean and count in the train fold\n",
    "        means = train_fold.groupby(feature)[target].mean()\n",
    "        counts = train_fold.groupby(feature)[target].count()\n",
    "        \n",
    "        global_mean = train_fold[target].mean()\n",
    "        \n",
    "        # Weighted mean formula\n",
    "        weighted_means = (means * counts + global_mean * smoothing) / (counts + smoothing)\n",
    "        \n",
    "        # Map weighted means to validation fold\n",
    "        encoded_col.iloc[val_idx] = val_fold[feature].map(weighted_means)\n",
    "        \n",
    "    df[f'{feature}_kfold_weighted_mean_encoded'] = encoded_col\n",
    "    return df\n"
   ]
  },
  {
   "cell_type": "code",
   "execution_count": 62,
   "id": "8dee26d7-dde9-4510-b86a-dd29aa0def51",
   "metadata": {},
   "outputs": [
    {
     "data": {
      "text/html": [
       "<div>\n",
       "<style scoped>\n",
       "    .dataframe tbody tr th:only-of-type {\n",
       "        vertical-align: middle;\n",
       "    }\n",
       "\n",
       "    .dataframe tbody tr th {\n",
       "        vertical-align: top;\n",
       "    }\n",
       "\n",
       "    .dataframe thead th {\n",
       "        text-align: right;\n",
       "    }\n",
       "</style>\n",
       "<table border=\"1\" class=\"dataframe\">\n",
       "  <thead>\n",
       "    <tr style=\"text-align: right;\">\n",
       "      <th></th>\n",
       "      <th>Favourite Color</th>\n",
       "      <th>Height (cm)</th>\n",
       "      <th>Loves Troll2</th>\n",
       "      <th>Favourite Color_mean_encoded</th>\n",
       "      <th>Favourite Color_kfold_weighted_mean_encoded</th>\n",
       "    </tr>\n",
       "  </thead>\n",
       "  <tbody>\n",
       "    <tr>\n",
       "      <th>0</th>\n",
       "      <td>Blue</td>\n",
       "      <td>1.77</td>\n",
       "      <td>1</td>\n",
       "      <td>0.333333</td>\n",
       "      <td>0.318182</td>\n",
       "    </tr>\n",
       "    <tr>\n",
       "      <th>1</th>\n",
       "      <td>Red</td>\n",
       "      <td>1.32</td>\n",
       "      <td>0</td>\n",
       "      <td>0.000000</td>\n",
       "      <td>NaN</td>\n",
       "    </tr>\n",
       "    <tr>\n",
       "      <th>2</th>\n",
       "      <td>Green</td>\n",
       "      <td>146.00</td>\n",
       "      <td>1</td>\n",
       "      <td>0.666667</td>\n",
       "      <td>0.348837</td>\n",
       "    </tr>\n",
       "    <tr>\n",
       "      <th>3</th>\n",
       "      <td>Blue</td>\n",
       "      <td>1.56</td>\n",
       "      <td>0</td>\n",
       "      <td>0.333333</td>\n",
       "      <td>0.511628</td>\n",
       "    </tr>\n",
       "    <tr>\n",
       "      <th>4</th>\n",
       "      <td>Green</td>\n",
       "      <td>1.77</td>\n",
       "      <td>1</td>\n",
       "      <td>0.666667</td>\n",
       "      <td>0.500000</td>\n",
       "    </tr>\n",
       "    <tr>\n",
       "      <th>5</th>\n",
       "      <td>Green</td>\n",
       "      <td>1.89</td>\n",
       "      <td>0</td>\n",
       "      <td>0.666667</td>\n",
       "      <td>0.348837</td>\n",
       "    </tr>\n",
       "    <tr>\n",
       "      <th>6</th>\n",
       "      <td>Blue</td>\n",
       "      <td>1.34</td>\n",
       "      <td>0</td>\n",
       "      <td>0.333333</td>\n",
       "      <td>0.511628</td>\n",
       "    </tr>\n",
       "  </tbody>\n",
       "</table>\n",
       "</div>"
      ],
      "text/plain": [
       "  Favourite Color  Height (cm)  Loves Troll2  Favourite Color_mean_encoded  \\\n",
       "0            Blue         1.77             1                      0.333333   \n",
       "1             Red         1.32             0                      0.000000   \n",
       "2           Green       146.00             1                      0.666667   \n",
       "3            Blue         1.56             0                      0.333333   \n",
       "4           Green         1.77             1                      0.666667   \n",
       "5           Green         1.89             0                      0.666667   \n",
       "6            Blue         1.34             0                      0.333333   \n",
       "\n",
       "   Favourite Color_kfold_weighted_mean_encoded  \n",
       "0                                     0.318182  \n",
       "1                                          NaN  \n",
       "2                                     0.348837  \n",
       "3                                     0.511628  \n",
       "4                                     0.500000  \n",
       "5                                     0.348837  \n",
       "6                                     0.511628  "
      ]
     },
     "execution_count": 62,
     "metadata": {},
     "output_type": "execute_result"
    }
   ],
   "source": [
    "kfold_encoding(df,'Favourite Color','Loves Troll2',2,42)"
   ]
  },
  {
   "cell_type": "code",
   "execution_count": null,
   "id": "1666c75e-e843-4803-9fc6-2eb5259cb7cf",
   "metadata": {},
   "outputs": [],
   "source": []
  }
 ],
 "metadata": {
  "kernelspec": {
   "display_name": "Python 3 (ipykernel)",
   "language": "python",
   "name": "python3"
  },
  "language_info": {
   "codemirror_mode": {
    "name": "ipython",
    "version": 3
   },
   "file_extension": ".py",
   "mimetype": "text/x-python",
   "name": "python",
   "nbconvert_exporter": "python",
   "pygments_lexer": "ipython3",
   "version": "3.12.5"
  }
 },
 "nbformat": 4,
 "nbformat_minor": 5
}
