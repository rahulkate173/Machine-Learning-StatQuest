{
 "cells": [
  {
   "cell_type": "markdown",
   "id": "8b830737-dc23-491a-b731-c3fb6f1a3651",
   "metadata": {},
   "source": [
    "# MultiDimensional Scaling (MDS)  And Principle Coordinate Analysis (PCoA)"
   ]
  },
  {
   "cell_type": "markdown",
   "id": "a62915cb-78af-43f0-b73f-eb3bfe432317",
   "metadata": {},
   "source": [
    "#### MDS -> 1. classical or metric (PCoA)\n",
    "####       2. Non Metric "
   ]
  },
  {
   "cell_type": "code",
   "execution_count": 53,
   "id": "77389863-9daf-45f4-a3bf-2de029d987eb",
   "metadata": {},
   "outputs": [],
   "source": [
    "import numpy as np\n",
    "import pandas as pd\n",
    "import seaborn as sns\n",
    "import matplotlib.pyplot as plt\n",
    "from sklearn.manifold import MDS\n",
    "from sklearn.metrics import pairwise_distances\n",
    "from sklearn.decomposition import PCA\n",
    "from sklearn.preprocessing import scale"
   ]
  },
  {
   "cell_type": "code",
   "execution_count": 2,
   "id": "98da5417-e514-4a2b-872d-b194aa90e6b3",
   "metadata": {},
   "outputs": [],
   "source": [
    "rng=np.random.default_rng(seed=42)"
   ]
  },
  {
   "cell_type": "code",
   "execution_count": 3,
   "id": "bbf9b4b3-c568-43c7-97c9-fe53da86c01e",
   "metadata": {},
   "outputs": [],
   "source": [
    "X = np.array([\n",
    "    [1, 2],\n",
    "    [3, 4],\n",
    "    [5, 6],\n",
    "    [7, 8]\n",
    "])\n",
    "# an array of to coordinate"
   ]
  },
  {
   "cell_type": "code",
   "execution_count": 6,
   "id": "29eec737-b9c1-4ff2-9a90-ed50c1be04d1",
   "metadata": {},
   "outputs": [
    {
     "name": "stdout",
     "output_type": "stream",
     "text": [
      "[[0.         2.82842712 5.65685425 8.48528137]\n",
      " [2.82842712 0.         2.82842712 5.65685425]\n",
      " [5.65685425 2.82842712 0.         2.82842712]\n",
      " [8.48528137 5.65685425 2.82842712 0.        ]]\n"
     ]
    }
   ],
   "source": [
    "distance_matrix=pairwise_distances(X,metric='euclidean')\n",
    "print(distance_matrix)"
   ]
  },
  {
   "cell_type": "code",
   "execution_count": 7,
   "id": "77b01408-4aef-4c4d-8cdd-b0add45d8b37",
   "metadata": {},
   "outputs": [],
   "source": [
    "mds=MDS(n_components=2,dissimilarity='precomputed',random_state=42)\n",
    "PCoA=mds.fit_transform(distance_matrix)"
   ]
  },
  {
   "cell_type": "code",
   "execution_count": 8,
   "id": "d4e1dac4-e87c-4bdf-8afc-93f425ed1cf8",
   "metadata": {},
   "outputs": [],
   "source": [
    "df_PCoA=pd.DataFrame(PCoA,columns=[['cord1','cord2']])"
   ]
  },
  {
   "cell_type": "code",
   "execution_count": 9,
   "id": "b7be7b59-c9a2-43b8-b996-68c64ee2fdda",
   "metadata": {},
   "outputs": [
    {
     "data": {
      "text/html": [
       "<div>\n",
       "<style scoped>\n",
       "    .dataframe tbody tr th:only-of-type {\n",
       "        vertical-align: middle;\n",
       "    }\n",
       "\n",
       "    .dataframe tbody tr th {\n",
       "        vertical-align: top;\n",
       "    }\n",
       "\n",
       "    .dataframe thead tr th {\n",
       "        text-align: left;\n",
       "    }\n",
       "</style>\n",
       "<table border=\"1\" class=\"dataframe\">\n",
       "  <thead>\n",
       "    <tr>\n",
       "      <th></th>\n",
       "      <th>cord1</th>\n",
       "      <th>cord2</th>\n",
       "    </tr>\n",
       "  </thead>\n",
       "  <tbody>\n",
       "    <tr>\n",
       "      <th>0</th>\n",
       "      <td>1.464482</td>\n",
       "      <td>3.955658</td>\n",
       "    </tr>\n",
       "    <tr>\n",
       "      <th>1</th>\n",
       "      <td>-0.076821</td>\n",
       "      <td>1.476923</td>\n",
       "    </tr>\n",
       "    <tr>\n",
       "      <th>2</th>\n",
       "      <td>0.105830</td>\n",
       "      <td>-1.489464</td>\n",
       "    </tr>\n",
       "    <tr>\n",
       "      <th>3</th>\n",
       "      <td>-1.493491</td>\n",
       "      <td>-3.943117</td>\n",
       "    </tr>\n",
       "  </tbody>\n",
       "</table>\n",
       "</div>"
      ],
      "text/plain": [
       "      cord1     cord2\n",
       "0  1.464482  3.955658\n",
       "1 -0.076821  1.476923\n",
       "2  0.105830 -1.489464\n",
       "3 -1.493491 -3.943117"
      ]
     },
     "execution_count": 9,
     "metadata": {},
     "output_type": "execute_result"
    }
   ],
   "source": [
    "df_PCoA"
   ]
  },
  {
   "cell_type": "code",
   "execution_count": 12,
   "id": "1dde171b-e532-4f76-86af-60e0df86fa33",
   "metadata": {},
   "outputs": [
    {
     "name": "stdout",
     "output_type": "stream",
     "text": [
      "[[ 1.4644821   3.95565796]\n",
      " [-0.07682106  1.47692287]\n",
      " [ 0.10583041 -1.48946419]\n",
      " [-1.49349144 -3.94311664]]\n"
     ]
    }
   ],
   "source": [
    "df_array=df_PCoA.to_numpy()\n",
    "print(df_array)"
   ]
  },
  {
   "cell_type": "code",
   "execution_count": 13,
   "id": "99764fbc-5d94-471f-bafa-f5d1311595ac",
   "metadata": {},
   "outputs": [
    {
     "data": {
      "image/png": "[encoded data removed]",
      "text/plain": [
       "<Figure size 1000x600 with 2 Axes>"
      ]
     },
     "metadata": {},
     "output_type": "display_data"
    }
   ],
   "source": [
    "fig,ax=plt.subplots(ncols=2,figsize=(10,6))\n",
    "sns.scatterplot(X,ax=ax[0])\n",
    "ax[0].set(xlabel='X',ylabel='Y')\n",
    "ax[0].legend()\n",
    "sns.scatterplot(df_array,ax=ax[1])\n",
    "ax[1].set(xlabel='X',ylabel='Y')\n",
    "ax[1].legend()\n",
    "plt.show()"
   ]
  },
  {
   "cell_type": "code",
   "execution_count": 14,
   "id": "4e88c437-785f-4b2f-b975-82ad8a592c55",
   "metadata": {},
   "outputs": [],
   "source": [
    "# creating data \n",
    "data=np.array(rng.normal(size=[100,10]))"
   ]
  },
  {
   "cell_type": "code",
   "execution_count": 17,
   "id": "90aa08a0-47a4-4a46-9cf9-76edf26e2b9b",
   "metadata": {},
   "outputs": [
    {
     "data": {
      "text/plain": [
       "(100, 10)"
      ]
     },
     "execution_count": 17,
     "metadata": {},
     "output_type": "execute_result"
    }
   ],
   "source": [
    "data.shape"
   ]
  },
  {
   "cell_type": "code",
   "execution_count": 24,
   "id": "3ab82a9f-5faa-4730-8668-46555b20b0ec",
   "metadata": {},
   "outputs": [],
   "source": [
    "wt=['wt'+str(i) for i in range(1,6)]\n",
    "ko=['ko'+str(i) for i in range(6,11)]\n",
    "df=pd.DataFrame(columns=[*wt,*ko],index=np.arange(1,data.shape[0]+1))"
   ]
  },
  {
   "cell_type": "code",
   "execution_count": 25,
   "id": "e1161635-d51b-4bdc-a9d1-e3d720880a48",
   "metadata": {},
   "outputs": [
    {
     "data": {
      "text/html": [
       "<div>\n",
       "<style scoped>\n",
       "    .dataframe tbody tr th:only-of-type {\n",
       "        vertical-align: middle;\n",
       "    }\n",
       "\n",
       "    .dataframe tbody tr th {\n",
       "        vertical-align: top;\n",
       "    }\n",
       "\n",
       "    .dataframe thead th {\n",
       "        text-align: right;\n",
       "    }\n",
       "</style>\n",
       "<table border=\"1\" class=\"dataframe\">\n",
       "  <thead>\n",
       "    <tr style=\"text-align: right;\">\n",
       "      <th></th>\n",
       "      <th>wt1</th>\n",
       "      <th>wt2</th>\n",
       "      <th>wt3</th>\n",
       "      <th>wt4</th>\n",
       "      <th>wt5</th>\n",
       "      <th>ko6</th>\n",
       "      <th>ko7</th>\n",
       "      <th>ko8</th>\n",
       "      <th>ko9</th>\n",
       "      <th>ko10</th>\n",
       "    </tr>\n",
       "  </thead>\n",
       "  <tbody>\n",
       "    <tr>\n",
       "      <th>1</th>\n",
       "      <td>NaN</td>\n",
       "      <td>NaN</td>\n",
       "      <td>NaN</td>\n",
       "      <td>NaN</td>\n",
       "      <td>NaN</td>\n",
       "      <td>NaN</td>\n",
       "      <td>NaN</td>\n",
       "      <td>NaN</td>\n",
       "      <td>NaN</td>\n",
       "      <td>NaN</td>\n",
       "    </tr>\n",
       "    <tr>\n",
       "      <th>2</th>\n",
       "      <td>NaN</td>\n",
       "      <td>NaN</td>\n",
       "      <td>NaN</td>\n",
       "      <td>NaN</td>\n",
       "      <td>NaN</td>\n",
       "      <td>NaN</td>\n",
       "      <td>NaN</td>\n",
       "      <td>NaN</td>\n",
       "      <td>NaN</td>\n",
       "      <td>NaN</td>\n",
       "    </tr>\n",
       "    <tr>\n",
       "      <th>3</th>\n",
       "      <td>NaN</td>\n",
       "      <td>NaN</td>\n",
       "      <td>NaN</td>\n",
       "      <td>NaN</td>\n",
       "      <td>NaN</td>\n",
       "      <td>NaN</td>\n",
       "      <td>NaN</td>\n",
       "      <td>NaN</td>\n",
       "      <td>NaN</td>\n",
       "      <td>NaN</td>\n",
       "    </tr>\n",
       "    <tr>\n",
       "      <th>4</th>\n",
       "      <td>NaN</td>\n",
       "      <td>NaN</td>\n",
       "      <td>NaN</td>\n",
       "      <td>NaN</td>\n",
       "      <td>NaN</td>\n",
       "      <td>NaN</td>\n",
       "      <td>NaN</td>\n",
       "      <td>NaN</td>\n",
       "      <td>NaN</td>\n",
       "      <td>NaN</td>\n",
       "    </tr>\n",
       "    <tr>\n",
       "      <th>5</th>\n",
       "      <td>NaN</td>\n",
       "      <td>NaN</td>\n",
       "      <td>NaN</td>\n",
       "      <td>NaN</td>\n",
       "      <td>NaN</td>\n",
       "      <td>NaN</td>\n",
       "      <td>NaN</td>\n",
       "      <td>NaN</td>\n",
       "      <td>NaN</td>\n",
       "      <td>NaN</td>\n",
       "    </tr>\n",
       "  </tbody>\n",
       "</table>\n",
       "</div>"
      ],
      "text/plain": [
       "   wt1  wt2  wt3  wt4  wt5  ko6  ko7  ko8  ko9 ko10\n",
       "1  NaN  NaN  NaN  NaN  NaN  NaN  NaN  NaN  NaN  NaN\n",
       "2  NaN  NaN  NaN  NaN  NaN  NaN  NaN  NaN  NaN  NaN\n",
       "3  NaN  NaN  NaN  NaN  NaN  NaN  NaN  NaN  NaN  NaN\n",
       "4  NaN  NaN  NaN  NaN  NaN  NaN  NaN  NaN  NaN  NaN\n",
       "5  NaN  NaN  NaN  NaN  NaN  NaN  NaN  NaN  NaN  NaN"
      ]
     },
     "execution_count": 25,
     "metadata": {},
     "output_type": "execute_result"
    }
   ],
   "source": [
    "df.head()"
   ]
  },
  {
   "cell_type": "code",
   "execution_count": 50,
   "id": "dac3c076-d208-40d4-8572-0ce1fe534a26",
   "metadata": {},
   "outputs": [],
   "source": [
    "for i in range(1,100):\n",
    "    df.loc[i,'wt1':'wt5']=np.round(np.abs(data[i,1:6])*1000)\n",
    "    df.loc[i,'ko6':'ko10']=np.round(np.abs(data[i,5:10])*1000)"
   ]
  },
  {
   "cell_type": "code",
   "execution_count": 67,
   "id": "ac28251c-164a-466a-a712-79cce4ee070f",
   "metadata": {},
   "outputs": [
    {
     "name": "stdout",
     "output_type": "stream",
     "text": [
      "     wt1     wt2     wt3    wt4     wt5     ko6    ko7     ko8    ko9   ko10\n",
      "1  778.0    66.0  1127.0  468.0   859.0   859.0  369.0   959.0  878.0   50.0\n",
      "2  681.0  1223.0   155.0  428.0   352.0   352.0  532.0   365.0  413.0  431.0\n",
      "3  406.0   512.0   814.0  616.0  1129.0  1129.0  114.0   840.0  824.0  651.0\n",
      "4  543.0   666.0   232.0  117.0   219.0   219.0  871.0   224.0  679.0   68.0\n",
      "5  631.0  1457.0   320.0  470.0   639.0   639.0  275.0  1495.0  866.0  968.0\n",
      "wt1     0\n",
      "wt2     0\n",
      "wt3     0\n",
      "wt4     0\n",
      "wt5     0\n",
      "ko6     0\n",
      "ko7     0\n",
      "ko8     0\n",
      "ko9     0\n",
      "ko10    0\n",
      "dtype: int64\n"
     ]
    }
   ],
   "source": [
    "print(df.head())\n",
    "print(df.isna().sum())\n",
    "df.fillna(value=855.0,inplace=True)"
   ]
  },
  {
   "cell_type": "code",
   "execution_count": 59,
   "id": "acf61238-f323-4ce7-a70f-2a302525f717",
   "metadata": {},
   "outputs": [],
   "source": [
    "df_scaled=scale(df)\n",
    "pca=PCA()\n",
    "pca.fit(df)\n",
    "pca_fit=pca.fit_transform(df)"
   ]
  },
  {
   "cell_type": "code",
   "execution_count": 60,
   "id": "6baf390c-388d-4c28-9280-8fe3a937034a",
   "metadata": {
    "scrolled": true
   },
   "outputs": [
    {
     "name": "stdout",
     "output_type": "stream",
     "text": [
      "[[-2.43526412e+00 -7.12656373e+02 -4.19624332e+01 -3.81444074e+02\n",
      "   2.67104343e+02 -6.39958047e+02 -6.42425235e+02 -1.15818443e+02\n",
      "   6.35939053e+01 -1.29726827e-13]\n",
      " [-5.47248984e+02 -3.18892343e+02 -8.99901989e+02 -1.78239023e+02\n",
      "  -4.28352571e+02  3.72543128e+02  1.70920469e+02  1.56416625e+02\n",
      "  -2.11441019e+02 -8.47176031e-14]\n",
      " [ 5.98310639e+02 -3.98533829e+02 -5.82994177e+01 -4.17544366e+02\n",
      "  -3.57012582e+01 -1.43968543e+02 -3.19573503e+02 -1.91393732e+02\n",
      "  -3.07210052e+02 -1.11891774e-13]\n",
      " [-8.78735153e+02 -5.56972390e+02 -8.30122357e+02  1.39191394e+02\n",
      "  -5.28860596e+02  1.49027928e+02 -4.63721674e+02  7.10151796e+00\n",
      "   6.10204626e+00 -1.44174342e-13]\n",
      " [ 2.29700185e+02  3.60806850e+02 -4.87506692e+02 -5.78590439e+02\n",
      "  -3.26611329e+00  3.55077389e+02 -7.88447154e+01  8.16296783e+02\n",
      "  -3.24090202e+02  4.57613229e-14]\n",
      " [-1.32609255e+01 -6.86166967e+02 -1.82642401e+02 -1.55155104e+02\n",
      "  -4.47595915e+02 -4.32497692e+02 -4.64247729e+02 -2.88688198e+02\n",
      "  -3.19167289e+02 -1.89400773e-13]\n",
      " [-2.53608154e+02 -5.91184044e+02 -8.05068738e+02 -3.77116561e+02\n",
      "  -2.40058802e+02  2.02910904e+02  7.44013077e+00 -2.14048497e+02\n",
      "   4.21464037e+02 -1.16780905e-13]\n",
      " [-4.09495997e+02 -4.63198027e+02 -4.41114773e+02  4.15249782e+01\n",
      "  -6.60283438e+02 -5.15750932e+02  3.39316769e+02 -4.45327712e+02\n",
      "  -3.50467032e+02 -1.51118070e-13]\n",
      " [ 9.23476521e+02 -5.06853243e+02  4.62394870e+02  9.56624005e+02\n",
      "  -5.09699162e+02 -3.34463994e+02  4.87180274e+02  4.62618733e+02\n",
      "  -6.31213616e+02  7.47799225e-14]\n",
      " [-3.72052802e+02  9.48707447e+02 -4.60579380e+02  3.95118222e+02\n",
      "  -1.57288674e+02 -5.36797122e+02  3.78350144e+02 -4.70331102e+02\n",
      "   3.49486850e+02  3.70315945e-14]\n",
      " [-5.70542637e+02 -2.86190607e+02  1.72204653e+02 -7.34983607e+02\n",
      "  -3.20581543e+02  2.29349986e+02 -1.02819657e+03 -8.73302938e+02\n",
      "   1.26623909e+02 -1.76432954e-13]\n",
      " [-5.39479272e+02  2.54274231e+02  3.98256718e+02  7.53661541e+02\n",
      "   5.16439933e+02 -3.44941770e+02 -4.38503200e+02  3.93697753e+01\n",
      "  -4.16039144e+02 -4.93560236e-14]\n",
      " [ 1.35163250e+03  1.98030248e+03  8.86939282e+01 -2.02483853e+02\n",
      "  -8.68534504e+02 -5.88103979e+02  5.38753850e+02 -1.56067134e+02\n",
      "   5.16830965e+02  3.42128064e-13]\n",
      " [-8.19458198e+02 -2.68376739e+02 -3.05460372e+02 -7.81397993e+02\n",
      "  -8.62685633e+02  7.88713331e+02  6.14862293e+02  4.42351716e+02\n",
      "   2.51438742e+02 -1.08081184e-13]\n",
      " [ 1.48994977e+03 -3.18791246e+02 -4.78378673e+02 -6.27660179e+02\n",
      "   2.79074542e+02  9.40360324e+02  3.71835325e+02  2.62764082e+02\n",
      "   3.40765386e+02 -3.16564241e-15]\n",
      " [-4.49092992e+02 -9.00126191e+02  1.75684481e+01 -3.32551483e+02\n",
      "   2.01688716e+01  1.01518296e+03  8.93195894e+02  3.73968825e+02\n",
      "  -6.42843229e+01 -1.57589128e-13]\n",
      " [-1.28193967e+03 -4.83176377e+02  2.10191643e+02  8.07438911e+02\n",
      "   8.49149131e+01 -3.00602907e+02  3.82516697e+02 -3.64928200e+02\n",
      "  -3.54954114e+02 -1.79407396e-13]\n",
      " [ 1.49181243e+03  4.16824589e+02  4.08277120e+02 -2.80716704e+02\n",
      "   1.75773143e+02  3.07956273e+01 -6.71433796e+02 -3.15182694e+02\n",
      "  -1.31453371e+02  1.28394865e-13]\n",
      " [-2.34566836e+02 -9.99632978e+02  3.05162731e+02  1.16340328e+02\n",
      "   3.86782492e+02 -2.42817014e+02  1.70122438e+02 -6.15512787e+02\n",
      "  -6.86162157e+02 -2.03536832e-13]\n",
      " [-8.86909350e+02  1.36493398e+02  1.00021685e+02 -5.51404185e+01\n",
      "  -2.20256695e+02 -1.68386205e+03  5.14706532e+02  5.79664099e+02\n",
      "  -1.30110665e+02 -4.58263974e-14]\n",
      " [ 5.81422313e+02 -4.58781628e+02 -8.41089185e+02  1.42541318e+02\n",
      "   5.78391166e+02 -7.23981889e+02 -1.10594631e+02  2.87485294e+02\n",
      "   2.03509945e+02 -1.96255861e-14]\n",
      " [-9.62993462e+02 -5.70944523e+01  3.59132400e+02  1.36716164e+03\n",
      "   7.33361187e+02 -1.57434009e+02 -1.22410695e+03  1.06268983e+03\n",
      "   1.39100497e+02 -1.36645637e-14]\n",
      " [-7.22114003e+02 -2.96017032e+02  6.51791629e+02  1.07348731e+03\n",
      "  -1.66733328e+02 -3.72462393e+01 -2.54414101e+02 -2.92650299e+02\n",
      "   6.03161639e+02 -1.19708690e-13]\n",
      " [ 5.87286471e+02  1.04187252e+03  2.53290327e+03 -7.70051403e+02\n",
      "  -5.87550208e+02  1.51377476e+02 -7.95312096e+01  1.04699274e+03\n",
      "  -2.22651873e+01  1.31637046e-13]\n",
      " [ 1.08468928e+02  1.68963248e+02 -4.70749804e+02 -1.91856016e+02\n",
      "   3.19694459e+02  1.16540310e+03  4.20278997e+02 -3.89080945e+02\n",
      "  -4.01578758e+02 -6.68263616e-14]\n",
      " [ 1.98006804e+02 -1.27190305e+03 -5.98725424e+02 -8.86034601e+01\n",
      "  -8.62752453e+01 -1.90137073e+02 -2.31748134e+02 -4.39123545e+02\n",
      "  -5.78768581e+02 -2.37583060e-13]\n",
      " [-7.83602065e+02 -4.81255125e+01  1.19222956e+03 -2.72258534e+02\n",
      "   4.50502140e+02 -9.92653129e+02 -3.84774440e+02 -2.66503596e+02\n",
      "  -4.87708452e+02 -1.87022992e-13]\n",
      " [-6.26842948e+02 -6.77470862e+02 -7.98546367e+02 -5.88472458e+02\n",
      "  -3.22880829e+02 -4.94167241e+02  9.58610208e+02 -1.34435543e+02\n",
      "   3.49108311e+02 -1.73815890e-13]\n",
      " [-1.25429644e+03  2.54772563e+02  9.14816609e+02 -1.27587016e+03\n",
      "   4.18223006e+02  7.37149381e+02 -8.46574964e+02 -7.77637105e+02\n",
      "  -1.52076758e+00 -2.19289025e-13]\n",
      " [ 1.01820027e+03  5.65753710e+02 -9.97736611e+02 -1.92087835e+02\n",
      "   4.17990473e+02  2.58912585e+01  1.55815800e+02  3.11250400e+02\n",
      "   5.20356683e+02  5.49307440e-14]\n",
      " [-2.71364823e+02  6.64391893e+02 -4.10888034e+02 -7.67170182e+02\n",
      "  -4.91619809e+02  5.65484817e+02  2.87800331e+02  1.94997745e+02\n",
      "  -5.41266487e+02  2.88417267e-14]\n",
      " [-5.64786439e+02 -2.12204363e+02  1.01262758e+03  4.45513166e+02\n",
      "  -9.61422072e+02  1.68434053e+02  5.88426862e+02  1.35597304e+01\n",
      "  -1.84317446e+02 -3.56817592e-14]\n",
      " [ 3.86202355e+02 -4.80207609e+02  4.42860460e+01 -1.88852197e+02\n",
      "  -1.03307979e+02  3.91364808e+02 -5.24604328e+02 -4.53075999e+02\n",
      "   5.10332529e+02 -7.07147398e-14]\n",
      " [ 1.94033957e+03 -8.40087367e+01  9.72776128e+02  2.26974413e+02\n",
      "  -9.53134692e+02 -5.28204269e+02  8.69252225e+01 -3.54528145e+02\n",
      "  -9.89836649e-01  5.78682096e-14]\n",
      " [-8.27969235e+02 -3.31502118e+02 -2.67709827e+02 -5.65354326e+02\n",
      "  -4.21289615e+02 -5.53195615e+02  7.39606060e+01 -3.01648681e+02\n",
      "  -1.88510675e+02 -1.75034087e-13]\n",
      " [ 8.18085002e+02 -6.42072906e+02 -5.54941343e+01  1.25917704e+02\n",
      "   5.82731462e+02  6.94667645e+02 -6.45558009e+01 -1.46766623e+02\n",
      "  -7.66070114e+01  3.70374788e-16]\n",
      " [ 2.05469428e+03 -6.84441770e+02  6.93674800e+02 -1.00669441e+03\n",
      "   3.39623537e+02 -2.28215458e+02 -3.42260915e+02  9.38985427e+02\n",
      "   8.40837128e+02  8.19488952e-14]\n",
      " [ 3.79219065e+01  3.92085344e+02  1.36700094e+02 -4.63616723e+02\n",
      "   3.19562411e+02  9.98204963e+01  1.48490554e+03 -2.19745524e+02\n",
      "  -6.83386912e+01 -6.18651791e-14]\n",
      " [-7.29416504e+02 -4.03547341e+01 -5.09127135e+02  3.68331385e+02\n",
      "  -5.00585620e+02 -4.58870439e+01 -2.32341732e+02 -3.53894349e+02\n",
      "  -6.69597633e+02 -7.93570272e-14]\n",
      " [-8.21775815e+01  1.01860427e+03 -1.66083223e+02 -6.29291125e+02\n",
      "  -8.88355026e+02  2.53482706e+01 -8.33669811e+02  2.69121527e+01\n",
      "  -2.69937571e+02  8.55446768e-14]\n",
      " [-4.11902550e+02  6.28118382e+02 -1.19790188e+03  2.48681826e+02\n",
      "   1.01909261e+03 -5.50622399e+02  5.87241851e+02  4.91643225e+02\n",
      "   9.01567598e+02  2.32884738e-14]\n",
      " [-5.66936796e+02  2.66839644e+02  5.54757107e+02 -4.69293640e+02\n",
      "   5.14514261e+02 -6.32708393e+02 -5.62010688e+02  6.03400262e+02\n",
      "   3.82059691e+01 -5.54744456e-14]\n",
      " [-3.42839007e+02 -2.65537975e+02  4.65319512e+02 -2.15267963e+02\n",
      "   7.37809839e+02 -6.72038643e+02 -3.84177194e+02 -3.66664324e+02\n",
      "  -3.96775969e+02 -1.85835356e-13]\n",
      " [ 4.76938800e+02 -8.49764526e+02  6.54232029e+02  2.05092366e+02\n",
      "  -4.72109287e+00  2.02689123e+02 -5.96428266e+02 -5.43634683e+02\n",
      "   3.93103176e+02 -6.25491886e-14]\n",
      " [-1.45753770e+03 -3.56355023e+02  2.50053313e+02 -4.42946321e+02\n",
      "   1.08700935e+03  1.15394709e+03 -1.50352728e+02  1.14329961e+02\n",
      "  -1.96434953e+02 -2.27663828e-13]\n",
      " [-3.30207074e+02  7.67165680e+02  7.95576355e+02 -1.13544605e+03\n",
      "   1.08916404e+03 -1.85613497e+00  1.20278332e+02  5.47194126e+02\n",
      "  -3.05390563e+02 -4.37097847e-14]\n",
      " [ 4.30680448e+02  1.35698912e+03 -9.74506776e+02  1.22526989e+03\n",
      "   2.58778430e+02 -1.48943938e+02  1.88343214e+02 -4.87067253e+01\n",
      "  -6.76201491e+02  1.95078839e-13]\n",
      " [-6.59510282e+02  5.58326829e+01 -9.81145963e+02  9.45100997e+01\n",
      "  -5.18430483e+01 -5.61421902e+02 -4.22392475e+02 -2.47970299e+02\n",
      "   6.71506746e+02 -8.45867477e-14]\n",
      " [ 3.00152214e+02  6.05987966e+02  4.39507255e+02  9.86757521e+02\n",
      "  -8.91377743e+02  2.12622524e+02 -8.32860784e+02 -1.80253697e+02\n",
      "   7.82059829e+02  6.76353880e-14]\n",
      " [-1.12483634e+03 -2.06754989e+02  1.70037250e+03  1.10086113e+03\n",
      "  -1.43854030e+02 -8.64159622e+02  1.52625199e+03  1.79823419e+02\n",
      "  -4.74138546e+01 -7.98334035e-14]\n",
      " [ 1.12907762e+02  7.68416129e+02 -6.05261140e+02  5.37247553e+02\n",
      "  -6.06990114e+02 -4.50201817e+02 -2.96191837e+02 -1.84569264e+02\n",
      "  -4.95425506e+02  8.53673497e-14]\n",
      " [-3.55889905e+02  5.12670591e+02 -3.18414013e+02  7.99084320e+02\n",
      "  -5.38880972e+02  3.00468660e+02  1.25339939e+03  3.68319788e+01\n",
      "  -7.78698814e+01  3.27052816e-14]\n",
      " [ 7.54466186e+01  6.42474118e+02  6.79169676e+02 -6.10650229e+02\n",
      "  -1.04874812e+03 -9.84028280e+02 -3.32228432e+02  5.33018839e+02\n",
      "   3.02394825e+02  5.97063721e-14]\n",
      " [-3.31118380e+02  1.14173392e+02 -1.13259187e+03 -2.17619243e+02\n",
      "  -1.61866957e+02 -5.54536543e+02 -5.48753561e+02  1.96385857e+02\n",
      "  -2.36193835e+02 -3.09942153e-14]\n",
      " [-5.97531744e+02  4.51874756e+02  3.12260567e+02 -2.21033583e+02\n",
      "   8.30979746e+02 -1.85015353e+02 -1.01689648e+03 -4.85537373e+02\n",
      "   1.57816209e+02 -9.24381653e-14]\n",
      " [-2.47267008e+01 -7.13573025e+02 -2.07177286e+02 -2.25862547e+02\n",
      "  -1.43281628e+02 -6.64952579e+02 -3.22221881e+02 -3.15620987e+02\n",
      "  -6.03395657e+02 -1.65226791e-13]\n",
      " [ 6.81100971e+02 -1.01960051e+03  1.87837811e+02  7.79409717e+02\n",
      "   5.67987471e+02  1.54380453e+02 -6.35875591e+02  2.51812610e+02\n",
      "  -2.01809629e+02 -1.56289369e-13]\n",
      " [ 1.64980816e+03 -3.12481714e+02  2.60203912e+02  7.46796806e+02\n",
      "   6.75384001e+02 -1.08946717e+02  5.14097220e+02 -3.50789467e+02\n",
      "   5.83895785e+02  1.25072915e-13]\n",
      " [-2.76802602e+02  9.14327217e+02  3.41178877e+02 -2.71047617e+02\n",
      "   6.33900344e+02  6.98782463e+02  8.93057270e+02 -2.97749510e+02\n",
      "  -8.85375233e+02  2.40716479e-14]\n",
      " [-4.35171179e+02  1.34065280e+02  1.90638702e+02 -4.60005649e+02\n",
      "  -7.63588907e+02  3.67713744e+02 -2.91057570e+02  1.63606393e+02\n",
      "   2.70227335e+02 -2.54993696e-14]\n",
      " [ 7.66518865e+02  3.92479345e+01  4.93052129e+00  1.58535269e+02\n",
      "  -4.66401427e+02  8.64240735e+02  5.27411578e+02 -2.57581131e+02\n",
      "  -2.57608991e+02  3.90731185e-14]\n",
      " [ 7.26934333e+02  1.48997369e+03 -3.53969219e+02  3.28872950e+02\n",
      "   7.69563314e+01 -1.43055561e+02 -6.25921311e+02 -1.76154820e+02\n",
      "  -6.91587590e+02  1.68248950e-13]\n",
      " [-6.79478380e+02  8.79459531e+01 -5.90018653e+02 -9.91856118e+02\n",
      "   1.39646603e+03 -1.00671127e+03  1.73795583e+02 -2.24997438e+02\n",
      "   1.11185333e+03 -1.78723373e-13]\n",
      " [-6.58461795e+02  3.35606437e+01 -9.25944272e+02 -4.68610716e+02\n",
      "   3.38143411e+02  7.09323392e+02  2.23724029e+02  1.45216464e+03\n",
      "  -5.55312395e+02  6.89496954e-15]\n",
      " [-1.00409271e+03 -8.77169583e+01  3.01750123e+02 -4.19907285e+02\n",
      "  -4.34990070e+02  8.70621198e+02 -1.39538052e+02 -1.03317548e+02\n",
      "  -1.27749606e+02 -1.44469028e-13]\n",
      " [ 1.64796580e+03  5.87208113e+02 -5.89985332e+01  1.43581124e+03\n",
      "  -8.78008981e+01  1.18324397e+03  4.93296852e+01 -3.67510084e+02\n",
      "   1.11003292e+02  2.58291808e-13]\n",
      " [-1.30065003e+03 -5.58300796e+02  5.94437978e+02  1.24637597e+03\n",
      "   2.29201596e+02  2.39448903e+02 -1.49806592e+01  7.16624354e+01\n",
      "   4.01371679e+01 -1.62771270e-13]\n",
      " [-3.15041130e+02 -1.46882995e+02 -4.38884972e+02 -1.51882462e+02\n",
      "   3.09829902e+02  2.36342542e+02 -1.16249802e+02  9.11511939e+02\n",
      "  -3.13044549e+02 -3.21798625e-14]\n",
      " [-8.88821818e+02 -4.32978507e+02  1.55156590e+03  7.45016564e+02\n",
      "   8.39364387e+02  3.93353977e+02 -2.89628115e+02  1.44551238e+02\n",
      "   2.76571799e+02 -1.59650111e-13]\n",
      " [ 2.36279486e+02 -5.50129367e+02 -2.58109317e+02  4.09412240e+02\n",
      "  -5.03055651e+02  2.74152429e+02  4.70008168e+02  2.78858063e+02\n",
      "  -5.59356378e+02  5.72228895e-15]\n",
      " [ 5.56536425e+02 -3.55986345e+02 -4.73123812e+02  9.02859595e+02\n",
      "  -1.74621672e+02  6.63577221e+02  1.74178315e+02  4.45348294e+02\n",
      "   3.47341260e+02 -1.17655619e-14]\n",
      " [ 6.83695457e+02  1.39685647e+02  7.05590706e+02 -1.16721607e+03\n",
      "   2.88540107e+02  9.67028149e+02  8.44710289e+02  7.20164931e+01\n",
      "   4.53476243e+02 -6.19736952e-14]\n",
      " [ 8.86424984e+01  1.65326533e+03 -4.76760630e+02  4.13785870e+02\n",
      "  -7.13646746e+02  1.89351066e+02 -7.94005364e+02 -1.21780842e+02\n",
      "  -2.82976197e+02  1.96903722e-13]\n",
      " [-3.31537138e+02 -2.27085557e+02  2.98917903e+02  5.88824115e+02\n",
      "   1.05601270e+03  5.93499454e+02  1.70453651e+02 -3.22368377e+02\n",
      "   9.12111677e+02 -8.44690980e-14]\n",
      " [-6.56575437e+01 -4.77656699e+02  1.44968367e+03 -1.99471563e+02\n",
      "   5.37138535e+02 -1.08207924e+02  5.51959501e+02 -2.12805237e+02\n",
      "  -4.70918974e+02 -1.92740749e-13]\n",
      " [ 1.72525351e+03  1.65578651e+02  1.30301145e+01 -3.65974811e+02\n",
      "  -2.95814676e+02  3.52842120e+02 -1.68484737e+02 -5.20547506e+02\n",
      "   3.09443586e+02  1.46884529e-13]\n",
      " [-6.49610598e+02  3.17346025e+02 -8.50782548e+02  5.55055368e+02\n",
      "   8.84230316e+02 -1.92346570e+02  3.08347971e+01 -7.07238057e+02\n",
      "   4.83117720e+02 -1.03491140e-13]\n",
      " [-8.82022798e+02 -2.45962901e+02 -3.83713184e+02 -1.05416466e+03\n",
      "  -4.03166560e+02  1.08866418e+03 -4.73622286e+02 -1.85463763e+02\n",
      "  -3.74330291e+02 -1.68549697e-13]\n",
      " [-9.71651239e+02 -1.21978162e+02  7.86109748e+01 -9.98782929e+01\n",
      "  -5.19137113e+02 -1.16789412e+03  4.07913893e+02  7.91603576e+02\n",
      "  -8.48436257e+00 -5.78394027e-14]\n",
      " [ 5.34742628e+02 -7.89281753e+02 -3.15377824e+02 -3.93263303e+02\n",
      "   3.25141989e+01 -9.32151833e+02  3.75959052e+02  4.43101694e+02\n",
      "  -3.05774167e+02 -9.35198385e-14]\n",
      " [-2.61621758e+02  1.34755765e+02 -8.76254866e+02  2.41030483e+02\n",
      "  -1.85029984e+02 -3.18254781e+02  4.33470572e+01 -6.18329380e+02\n",
      "  -4.40433151e+02 -5.97843610e-14]\n",
      " [-4.74966814e+02  2.12077705e+03  4.51354045e+02 -8.06103226e+02\n",
      "   2.66295519e+02 -4.11772318e+02  1.25215579e+03 -1.31386296e+03\n",
      "   4.46968798e+01  4.42467283e-14]\n",
      " [ 2.45081261e+02  4.57329370e+01  7.32843747e+00 -1.07399939e+03\n",
      "  -4.10455110e+02 -3.82375835e+02 -1.63555275e+02  9.94145622e+02\n",
      "   7.70498212e+02  6.15855747e-14]\n",
      " [-9.10392822e+02  2.60109625e+02  1.04434701e+02  1.87607865e+03\n",
      "  -3.24831380e+02  1.49679826e+03 -1.28734944e+02  1.19847816e+03\n",
      "   3.01082305e+02  8.58021561e-14]\n",
      " [-6.90966287e+02  5.45937586e+02 -5.77717658e+02 -5.86417079e+02\n",
      "  -1.22077372e+03  9.66651491e+01 -8.24129303e+02  1.48536774e+02\n",
      "   8.48955826e+01  2.37752873e-15]\n",
      " [-2.01609980e+02 -9.25005837e+02 -5.42413000e+02  5.94126412e+02\n",
      "  -4.36066623e+02 -7.15540567e+02  1.01402942e+02  2.37797358e+02\n",
      "   7.36873921e+02 -8.72991657e-14]\n",
      " [ 1.26445997e+03 -1.66083393e+03  3.44033202e+01 -4.15819149e+02\n",
      "  -7.15501487e+02 -5.31876186e+02  1.29322111e+03 -6.25257455e+01\n",
      "  -2.54364628e+02 -1.27274231e-13]\n",
      " [-5.20303967e+02  1.54376753e+03  8.74484846e+02 -1.84904603e+02\n",
      "  -7.66652859e+02  4.51623820e+01 -1.37606708e+02 -1.53579767e+02\n",
      "   8.05331858e+02  9.05180330e-14]\n",
      " [ 9.04830120e+02  1.88959172e+02 -7.64257324e+02  5.15664818e+02\n",
      "  -1.67508574e+02  2.90908885e+01 -1.32716628e+02  9.45211424e+00\n",
      "  -1.41669866e+02  9.82939755e-14]\n",
      " [ 1.79007903e+03 -7.85010142e+02  4.99740630e+02  4.56804543e+01\n",
      "   1.06158209e+03 -9.37822328e+01 -1.96105041e+02 -5.38291301e+02\n",
      "  -5.76106747e+02 -1.43391085e-13]\n",
      " [ 7.37982722e+02  6.97247337e+02  5.46022746e+02  8.11717327e+02\n",
      "  -5.35428976e+02  1.17282433e+02  1.63447424e+01 -2.26686449e+02\n",
      "   2.38160693e+02  1.19110902e-13]\n",
      " [ 1.25052305e+03 -1.64302822e+03 -4.63098913e+02 -1.68252572e+02\n",
      "   9.32386324e+01 -1.73592775e+02 -1.92023698e+02 -4.45048683e+02\n",
      "   2.67219035e+02 -2.02253665e-13]\n",
      " [-6.16556875e+02  4.99858001e+01  3.64644912e+02  5.83673988e+01\n",
      "   2.10111599e+02  7.37459524e+02 -1.52330579e+02 -6.61071154e+02\n",
      "   2.66323449e+02 -1.47878986e-13]\n",
      " [ 1.16828859e+03  2.76239477e+03 -7.27690884e+02  2.75205565e+02\n",
      "   1.80020265e+03 -3.90081010e+02 -2.08821157e+02  5.08189721e+02\n",
      "  -6.27755724e+02  3.60676342e-13]\n",
      " [ 8.97727367e+02 -7.25551814e+02  1.53954630e+02 -1.07505734e+02\n",
      "   1.22863627e+03 -4.01450279e+02 -2.31603660e+02  7.83148517e+02\n",
      "  -6.68703620e+02 -3.30434837e-14]\n",
      " [ 6.98535095e+02 -1.05279023e+03 -3.57126833e+02 -4.40246916e+02\n",
      "  -5.38541682e+02  5.80348263e+02 -6.42412866e+02  3.11225840e+02\n",
      "  -1.80275549e+02 -6.86496980e-14]\n",
      " [ 1.56136739e+02 -4.47297787e+02  6.01002445e+02  3.59714350e+02\n",
      "  -7.97784766e+02 -2.55211624e+02 -5.00815380e+02 -1.56708507e+02\n",
      "  -4.11587742e+01 -4.67937977e-14]\n",
      " [-4.48696896e+02 -5.34785127e+02 -5.91385158e+02  6.33495856e+02\n",
      "   2.23628153e+02 -4.03582933e+02  1.71627466e+02 -1.66080720e+02\n",
      "   8.09481641e+02 -1.21691785e-13]\n",
      " [-8.46916306e+02 -1.84359570e+01 -6.96648213e+02 -3.82038819e+02\n",
      "   6.17101470e+02  8.58762494e+02  7.25109129e+02 -3.38402504e+02\n",
      "   5.72159348e+02 -1.41424995e-13]\n",
      " [ 9.56990204e+01 -5.64080242e-01  1.05755588e+02 -2.92797958e+01\n",
      "   2.45298442e+01 -6.45595118e+01  1.48776057e+02  1.38275483e+02\n",
      "   1.32629165e+02 -5.59306252e-14]]\n"
     ]
    }
   ],
   "source": [
    "print(pca_fit)"
   ]
  },
  {
   "cell_type": "code",
   "execution_count": 61,
   "id": "facddd85-03ba-47ac-b8fa-7da77dcb4e6d",
   "metadata": {},
   "outputs": [],
   "source": [
    "pca_var=np.round(pca.explained_variance_ratio_*100,decimals=1)"
   ]
  },
  {
   "cell_type": "code",
   "execution_count": 62,
   "id": "a1dc09a3-3625-4630-a8dd-53999d06ecf1",
   "metadata": {},
   "outputs": [
    {
     "name": "stdout",
     "output_type": "stream",
     "text": [
      "[18.8 16.  12.4 11.5 10.4 10.   8.7  6.6  5.6  0. ]\n"
     ]
    }
   ],
   "source": [
    "print(pca_var)"
   ]
  },
  {
   "cell_type": "code",
   "execution_count": 64,
   "id": "23e8807b-4092-46fe-b6af-099982a84595",
   "metadata": {},
   "outputs": [
    {
     "name": "stdout",
     "output_type": "stream",
     "text": [
      "['pca1', 'pca2', 'pca3', 'pca4', 'pca5', 'pca6', 'pca7', 'pca8', 'pca9', 'pca10']\n"
     ]
    }
   ],
   "source": [
    "labels=[f'pca{str(i)}' for i in range(1,len(pca_var)+1)]\n",
    "print(labels)"
   ]
  },
  {
   "cell_type": "code",
   "execution_count": 66,
   "id": "00deed0e-120a-422b-9888-cba81be286cb",
   "metadata": {},
   "outputs": [
    {
     "data": {
      "text/plain": [
       "<BarContainer object of 10 artists>"
      ]
     },
     "execution_count": 66,
     "metadata": {},
     "output_type": "execute_result"
    },
    {
     "data": {
      "image/png": "[encoded data removed]",
      "text/plain": [
       "<Figure size 640x480 with 1 Axes>"
      ]
     },
     "metadata": {},
     "output_type": "display_data"
    }
   ],
   "source": [
    "plt.bar(x=range(1,len(labels)+1),height=pca_var,tick_label=labels)"
   ]
  },
  {
   "cell_type": "code",
   "execution_count": 76,
   "id": "8015f914-ab17-4ac1-8ef2-9a896d191e40",
   "metadata": {},
   "outputs": [
    {
     "data": {
      "image/png": "[encoded data removed]",
      "text/plain": [
       "<Figure size 640x480 with 1 Axes>"
      ]
     },
     "metadata": {},
     "output_type": "display_data"
    }
   ],
   "source": [
    "sns.scatterplot(x=pca_fit[:,1],y=pca_fit[:,2])\n",
    "plt.title('PCA Graph')\n",
    "plt.xlabel(f'PC1-{pca_var[0]}')\n",
    "plt.ylabel(f'PC2-{pca_var[1]}')\n",
    "plt.show()"
   ]
  },
  {
   "cell_type": "code",
   "execution_count": 71,
   "id": "4031feaf-7719-4a2f-b7b3-9f6d28bd6bc3",
   "metadata": {},
   "outputs": [],
   "source": [
    "dist_matrix=pairwise_distances(df.to_numpy(),metric='euclidean')"
   ]
  },
  {
   "cell_type": "code",
   "execution_count": 72,
   "id": "11404488-02c1-4284-97e6-f607dd9d7533",
   "metadata": {},
   "outputs": [],
   "source": [
    "mds=MDS(n_components=2,dissimilarity='precomputed',random_state=42)\n",
    "cord=mds.fit_transform(dist_matrix)"
   ]
  },
  {
   "cell_type": "code",
   "execution_count": 82,
   "id": "aa86b7d5-c8d7-4efe-92ee-58a82e912b5d",
   "metadata": {},
   "outputs": [
    {
     "name": "stdout",
     "output_type": "stream",
     "text": [
      "(100, 2)\n",
      "(100,)\n",
      "(100,)\n"
     ]
    }
   ],
   "source": [
    "print(cord.shape)\n",
    "print(cord[:,1].shape)\n",
    "print(cord[:,0].shape)"
   ]
  },
  {
   "cell_type": "code",
   "execution_count": 84,
   "id": "0cff9426-b260-4d8e-bb88-d1654d66bbc2",
   "metadata": {},
   "outputs": [
    {
     "data": {
      "text/plain": [
       "<Axes: >"
      ]
     },
     "execution_count": 84,
     "metadata": {},
     "output_type": "execute_result"
    },
    {
     "data": {
      "image/png": "[encoded data removed]",
      "text/plain": [
       "<Figure size 1000x600 with 1 Axes>"
      ]
     },
     "metadata": {},
     "output_type": "display_data"
    }
   ],
   "source": [
    "plt.figure(figsize=(10,6))\n",
    "sns.scatterplot(x=cord[:,0],y=cord[:,1])"
   ]
  },
  {
   "cell_type": "code",
   "execution_count": null,
   "id": "55d9f24d-ce1c-4208-94b9-8fc8161dd4b6",
   "metadata": {},
   "outputs": [],
   "source": []
  }
 ],
 "metadata": {
  "kernelspec": {
   "display_name": "Python 3 (ipykernel)",
   "language": "python",
   "name": "python3"
  },
  "language_info": {
   "codemirror_mode": {
    "name": "ipython",
    "version": 3
   },
   "file_extension": ".py",
   "mimetype": "text/x-python",
   "name": "python",
   "nbconvert_exporter": "python",
   "pygments_lexer": "ipython3",
   "version": "3.12.5"
  }
 },
 "nbformat": 4,
 "nbformat_minor": 5
}
