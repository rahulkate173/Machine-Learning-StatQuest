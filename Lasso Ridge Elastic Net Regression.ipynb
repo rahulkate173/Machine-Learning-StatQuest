{
 "cells": [
  {
   "cell_type": "markdown",
   "id": "718bcb49-78ec-403c-85eb-4d19344efb1d",
   "metadata": {},
   "source": [
    "# Elastic Net Regression"
   ]
  },
  {
   "cell_type": "code",
   "execution_count": 1,
   "id": "42b4fc4f-89fa-4878-ac61-bc9c81b3e351",
   "metadata": {},
   "outputs": [],
   "source": [
    "import numpy as np\n",
    "import seaborn as sns\n",
    "import matplotlib.pyplot as plt\n",
    "from sklearn.linear_model import LinearRegression,LogisticRegression,ElasticNet,ElasticNetCV,RidgeCV,Ridge,Lasso,LassoCV\n",
    "from sklearn.model_selection import train_test_split\n",
    "from sklearn.model_selection import LeaveOneOut\n",
    "from sklearn.metrics import accuracy_score,mean_squared_error,r2_score\n",
    "from sklearn.preprocessing import OneHotEncoder"
   ]
  },
  {
   "cell_type": "markdown",
   "id": "92d5e998-8d8d-4999-8913-a14af83d7a5d",
   "metadata": {},
   "source": [
    "### sum of least square residual + (alpha * l1_ratio*(|slope|)) + (alpha*(1-l1_ratio)*(slope)^2)"
   ]
  },
  {
   "cell_type": "code",
   "execution_count": 2,
   "id": "d788ee6b-7877-4cfb-a901-28dea6e3968d",
   "metadata": {},
   "outputs": [],
   "source": [
    "rng=np.random.default_rng(seed=42)"
   ]
  },
  {
   "cell_type": "code",
   "execution_count": 3,
   "id": "af6d68d3-eb04-43be-842c-909b6f60481b",
   "metadata": {},
   "outputs": [],
   "source": [
    "n=1000 # !000 sample \n",
    "p=5000 # 5000 parameters to estimate \n",
    "real_p=15 # 15 parameter help to predict the outcome remaining 4985 are just random noise"
   ]
  },
  {
   "cell_type": "code",
   "execution_count": 4,
   "id": "6f385204-ae7f-4fed-a12b-4f83d10d9eef",
   "metadata": {},
   "outputs": [],
   "source": [
    "x=np.random.randn(n,p)"
   ]
  },
  {
   "cell_type": "code",
   "execution_count": 5,
   "id": "18ca45cd-fd02-4fe9-aa77-e1406d2fef82",
   "metadata": {},
   "outputs": [
    {
     "data": {
      "text/plain": [
       "(1000, 5000)"
      ]
     },
     "execution_count": 5,
     "metadata": {},
     "output_type": "execute_result"
    }
   ],
   "source": [
    "x.shape"
   ]
  },
  {
   "cell_type": "code",
   "execution_count": 6,
   "id": "f7a380fc-cba4-4cd5-9228-b3db71f371ed",
   "metadata": {},
   "outputs": [],
   "source": [
    "y=(x[:,1:real_p]).sum()+rng.standard_normal(n)"
   ]
  },
  {
   "cell_type": "code",
   "execution_count": 7,
   "id": "f0ac4c46-48f3-425d-8071-e8c35403a915",
   "metadata": {},
   "outputs": [
    {
     "data": {
      "text/plain": [
       "(1000,)"
      ]
     },
     "execution_count": 7,
     "metadata": {},
     "output_type": "execute_result"
    }
   ],
   "source": [
    "y.shape"
   ]
  },
  {
   "cell_type": "code",
   "execution_count": 8,
   "id": "394c6b94-94ab-401c-bb49-373cbf850a1b",
   "metadata": {},
   "outputs": [
    {
     "name": "stdout",
     "output_type": "stream",
     "text": [
      "(670, 5000)\n",
      "(670,)\n",
      "(330, 5000)\n",
      "(330,)\n"
     ]
    }
   ],
   "source": [
    "x_train,x_test,y_train,y_test=train_test_split(x,y,test_size=0.33,random_state=42)\n",
    "print(x_train.shape)\n",
    "print(y_train.shape)\n",
    "print(x_test.shape)\n",
    "print(y_test.shape)"
   ]
  },
  {
   "cell_type": "markdown",
   "id": "352ba0f4-50e3-4a6c-9219-0f214a895661",
   "metadata": {},
   "source": [
    "# Ridge Regression"
   ]
  },
  {
   "cell_type": "code",
   "execution_count": 9,
   "id": "24f20d4d-e518-451d-b0f3-f15583cade49",
   "metadata": {},
   "outputs": [
    {
     "name": "stderr",
     "output_type": "stream",
     "text": [
      "C:\\Users\\Rahul\\AppData\\Local\\Programs\\Python\\Python312\\Lib\\site-packages\\sklearn\\linear_model\\_ridge.py:254: UserWarning: Singular matrix in solving dual problem. Using least-squares solution instead.\n",
      "  warnings.warn(\n"
     ]
    }
   ],
   "source": [
    "ridge0=Ridge(alpha=0.0).fit(x_train,y_train)\n",
    "y_pred=ridge0.predict(x_test)"
   ]
  },
  {
   "cell_type": "code",
   "execution_count": 10,
   "id": "ed22e4ce-3f0b-49e1-b8df-a054d093536e",
   "metadata": {},
   "outputs": [
    {
     "data": {
      "text/plain": [
       "1.114042354507522"
      ]
     },
     "execution_count": 10,
     "metadata": {},
     "output_type": "execute_result"
    }
   ],
   "source": [
    "mean_squared_error(y_test,y_pred)"
   ]
  },
  {
   "cell_type": "markdown",
   "id": "b38d976b-5815-4bcd-b6bf-c1b0b16a19d3",
   "metadata": {},
   "source": [
    "# Lasso Regression"
   ]
  },
  {
   "cell_type": "code",
   "execution_count": 12,
   "id": "e4881f50-cdff-4893-b34e-c60dc7448a9c",
   "metadata": {},
   "outputs": [
    {
     "name": "stderr",
     "output_type": "stream",
     "text": [
      "C:\\Users\\Rahul\\AppData\\Local\\Programs\\Python\\Python312\\Lib\\site-packages\\sklearn\\linear_model\\_coordinate_descent.py:695: UserWarning: Coordinate descent with no regularization may lead to unexpected results and is discouraged.\n",
      "  model = cd_fast.enet_coordinate_descent(\n",
      "C:\\Users\\Rahul\\AppData\\Local\\Programs\\Python\\Python312\\Lib\\site-packages\\sklearn\\linear_model\\_coordinate_descent.py:695: UserWarning: Coordinate descent with no regularization may lead to unexpected results and is discouraged.\n",
      "  model = cd_fast.enet_coordinate_descent(\n",
      "C:\\Users\\Rahul\\AppData\\Local\\Programs\\Python\\Python312\\Lib\\site-packages\\sklearn\\linear_model\\_coordinate_descent.py:695: UserWarning: Coordinate descent with no regularization may lead to unexpected results and is discouraged.\n",
      "  model = cd_fast.enet_coordinate_descent(\n",
      "C:\\Users\\Rahul\\AppData\\Local\\Programs\\Python\\Python312\\Lib\\site-packages\\sklearn\\linear_model\\_coordinate_descent.py:695: UserWarning: Coordinate descent with no regularization may lead to unexpected results and is discouraged.\n",
      "  model = cd_fast.enet_coordinate_descent(\n",
      "C:\\Users\\Rahul\\AppData\\Local\\Programs\\Python\\Python312\\Lib\\site-packages\\sklearn\\linear_model\\_coordinate_descent.py:695: UserWarning: Coordinate descent with no regularization may lead to unexpected results and is discouraged.\n",
      "  model = cd_fast.enet_coordinate_descent(\n",
      "C:\\Users\\Rahul\\AppData\\Local\\Programs\\Python\\Python312\\Lib\\site-packages\\sklearn\\linear_model\\_coordinate_descent.py:695: UserWarning: Coordinate descent with no regularization may lead to unexpected results and is discouraged.\n",
      "  model = cd_fast.enet_coordinate_descent(\n",
      "C:\\Users\\Rahul\\AppData\\Local\\Programs\\Python\\Python312\\Lib\\site-packages\\sklearn\\linear_model\\_coordinate_descent.py:695: UserWarning: Coordinate descent with no regularization may lead to unexpected results and is discouraged.\n",
      "  model = cd_fast.enet_coordinate_descent(\n",
      "C:\\Users\\Rahul\\AppData\\Local\\Programs\\Python\\Python312\\Lib\\site-packages\\sklearn\\linear_model\\_coordinate_descent.py:695: UserWarning: Coordinate descent with no regularization may lead to unexpected results and is discouraged.\n",
      "  model = cd_fast.enet_coordinate_descent(\n",
      "C:\\Users\\Rahul\\AppData\\Local\\Programs\\Python\\Python312\\Lib\\site-packages\\sklearn\\linear_model\\_coordinate_descent.py:695: UserWarning: Coordinate descent with no regularization may lead to unexpected results and is discouraged.\n",
      "  model = cd_fast.enet_coordinate_descent(\n",
      "C:\\Users\\Rahul\\AppData\\Local\\Programs\\Python\\Python312\\Lib\\site-packages\\sklearn\\linear_model\\_coordinate_descent.py:695: UserWarning: Coordinate descent with no regularization may lead to unexpected results and is discouraged.\n",
      "  model = cd_fast.enet_coordinate_descent(\n"
     ]
    }
   ],
   "source": [
    "lasso0=LassoCV(alphas=[1.0,0.0,20.0,10.0],cv=10).fit(x_train,y_train)\n",
    "y_pred0=lasso0.predict(x_test)"
   ]
  },
  {
   "cell_type": "code",
   "execution_count": 13,
   "id": "20ddb746-9d8b-4263-8aa2-937b639e5e1e",
   "metadata": {},
   "outputs": [
    {
     "data": {
      "text/plain": [
       "1.0185563318736222"
      ]
     },
     "execution_count": 13,
     "metadata": {},
     "output_type": "execute_result"
    }
   ],
   "source": [
    "mean_squared_error(y_test,y_pred0)"
   ]
  },
  {
   "cell_type": "markdown",
   "id": "d0fa5a25-b4af-4a0f-8e97-d118257c0874",
   "metadata": {},
   "source": [
    "# Elastic Net  Regression"
   ]
  },
  {
   "cell_type": "code",
   "execution_count": 15,
   "id": "0d4e940d-5c23-4606-a298-0fc140acdda5",
   "metadata": {},
   "outputs": [
    {
     "data": {
      "text/plain": [
       "np.float64(1.0185563318736222)"
      ]
     },
     "execution_count": 15,
     "metadata": {},
     "output_type": "execute_result"
    }
   ],
   "source": [
    "alpha5=ElasticNet(alpha=0.5,l1_ratio=0.5).fit(x_train,y_train)\n",
    "y_predalpha=alpha5.predict(x_test)\n",
    "np.mean((y_test-y_predalpha)**2)"
   ]
  },
  {
   "cell_type": "code",
   "execution_count": 16,
   "id": "9af6feda-8964-46d5-ac34-651b6294468d",
   "metadata": {},
   "outputs": [
    {
     "data": {
      "text/plain": [
       "1.0185563318736222"
      ]
     },
     "execution_count": 16,
     "metadata": {},
     "output_type": "execute_result"
    }
   ],
   "source": [
    "\n",
    "mean_squared_error(y_test,y_predalpha)"
   ]
  },
  {
   "cell_type": "markdown",
   "id": "04bf8269-e8d0-44ee-948c-718376447399",
   "metadata": {},
   "source": [
    "# Now Checking for multiple value of l1_ratio"
   ]
  },
  {
   "cell_type": "code",
   "execution_count": 18,
   "id": "16196951-398a-432c-9f34-6fbde3796048",
   "metadata": {},
   "outputs": [
    {
     "name": "stderr",
     "output_type": "stream",
     "text": [
      "C:\\Users\\Rahul\\AppData\\Local\\Programs\\Python\\Python312\\Lib\\site-packages\\sklearn\\linear_model\\_coordinate_descent.py:695: ConvergenceWarning: Objective did not converge. You might want to increase the number of iterations, check the scale of the features or consider increasing regularisation. Duality gap: 4.176e+01, tolerance: 6.415e-02 Linear regression models with null weight for the l1 regularization term are more efficiently fitted using one of the solvers implemented in sklearn.linear_model.Ridge/RidgeCV instead.\n",
      "  model = cd_fast.enet_coordinate_descent(\n"
     ]
    }
   ],
   "source": [
    "l1_list={}\n",
    "for i in range(11):\n",
    "    fit_name=f'alpha {i/10}'\n",
    "    l1_list[fit_name]=ElasticNet(l1_ratio=(i/10)).fit(x_train,y_train)\n",
    "\n",
    "    "
   ]
  },
  {
   "cell_type": "code",
   "execution_count": 19,
   "id": "ea6667c7-2375-4ded-9df0-2fd86f264e7d",
   "metadata": {},
   "outputs": [
    {
     "data": {
      "text/plain": [
       "{'alpha 0.0': ElasticNet(l1_ratio=0.0),\n",
       " 'alpha 0.1': ElasticNet(l1_ratio=0.1),\n",
       " 'alpha 0.2': ElasticNet(l1_ratio=0.2),\n",
       " 'alpha 0.3': ElasticNet(l1_ratio=0.3),\n",
       " 'alpha 0.4': ElasticNet(l1_ratio=0.4),\n",
       " 'alpha 0.5': ElasticNet(),\n",
       " 'alpha 0.6': ElasticNet(l1_ratio=0.6),\n",
       " 'alpha 0.7': ElasticNet(l1_ratio=0.7),\n",
       " 'alpha 0.8': ElasticNet(l1_ratio=0.8),\n",
       " 'alpha 0.9': ElasticNet(l1_ratio=0.9),\n",
       " 'alpha 1.0': ElasticNet(l1_ratio=1.0)}"
      ]
     },
     "execution_count": 19,
     "metadata": {},
     "output_type": "execute_result"
    }
   ],
   "source": [
    "l1_list"
   ]
  },
  {
   "cell_type": "code",
   "execution_count": 21,
   "id": "dabd6eae-4518-4ec6-8798-d096d321974a",
   "metadata": {},
   "outputs": [],
   "source": [
    "import pandas as pd\n",
    "results=pd.DataFrame()\n",
    "df=pd.DataFrame()"
   ]
  },
  {
   "cell_type": "code",
   "execution_count": 25,
   "id": "e8f38adf-e5bd-4756-aef5-c9646d98dfb1",
   "metadata": {},
   "outputs": [],
   "source": [
    "dict_results={}\n",
    "alpha_list=[]\n",
    "mse_list=[]\n",
    "fit_name=[]\n",
    "for i in range(11):\n",
    "    fit_namealpha=f'alpha {i/10}'\n",
    "    fit_name.append(fit_namealpha)\n",
    "    y_pred=l1_list[fit_namealpha].predict(x_test)\n",
    "    mse=mean_squared_error(y_test,y_pred)\n",
    "    alpha_list.append(i/10)\n",
    "    mse_list.append(mse)\n",
    "    \n",
    "    "
   ]
  },
  {
   "cell_type": "code",
   "execution_count": 26,
   "id": "d92992b7-630f-4a36-a812-01477f13e1f4",
   "metadata": {},
   "outputs": [],
   "source": [
    "dict_results={'alpha':alpha_list,'mse':mse_list,'fit_name':fit_name}\n",
    "results=pd.DataFrame(dict_results)"
   ]
  },
  {
   "cell_type": "code",
   "execution_count": 27,
   "id": "2ed8d16c-326a-485b-94fd-fd63fb7ae1cf",
   "metadata": {},
   "outputs": [
    {
     "data": {
      "text/html": [
       "<div>\n",
       "<style scoped>\n",
       "    .dataframe tbody tr th:only-of-type {\n",
       "        vertical-align: middle;\n",
       "    }\n",
       "\n",
       "    .dataframe tbody tr th {\n",
       "        vertical-align: top;\n",
       "    }\n",
       "\n",
       "    .dataframe thead th {\n",
       "        text-align: right;\n",
       "    }\n",
       "</style>\n",
       "<table border=\"1\" class=\"dataframe\">\n",
       "  <thead>\n",
       "    <tr style=\"text-align: right;\">\n",
       "      <th></th>\n",
       "      <th>alpha</th>\n",
       "      <th>mse</th>\n",
       "      <th>fit_name</th>\n",
       "    </tr>\n",
       "  </thead>\n",
       "  <tbody>\n",
       "    <tr>\n",
       "      <th>0</th>\n",
       "      <td>0.0</td>\n",
       "      <td>1.084143</td>\n",
       "      <td>alpha 0.0</td>\n",
       "    </tr>\n",
       "    <tr>\n",
       "      <th>1</th>\n",
       "      <td>0.1</td>\n",
       "      <td>1.011897</td>\n",
       "      <td>alpha 0.1</td>\n",
       "    </tr>\n",
       "    <tr>\n",
       "      <th>2</th>\n",
       "      <td>0.2</td>\n",
       "      <td>1.018556</td>\n",
       "      <td>alpha 0.2</td>\n",
       "    </tr>\n",
       "    <tr>\n",
       "      <th>3</th>\n",
       "      <td>0.3</td>\n",
       "      <td>1.018556</td>\n",
       "      <td>alpha 0.3</td>\n",
       "    </tr>\n",
       "    <tr>\n",
       "      <th>4</th>\n",
       "      <td>0.4</td>\n",
       "      <td>1.018556</td>\n",
       "      <td>alpha 0.4</td>\n",
       "    </tr>\n",
       "    <tr>\n",
       "      <th>5</th>\n",
       "      <td>0.5</td>\n",
       "      <td>1.018556</td>\n",
       "      <td>alpha 0.5</td>\n",
       "    </tr>\n",
       "    <tr>\n",
       "      <th>6</th>\n",
       "      <td>0.6</td>\n",
       "      <td>1.018556</td>\n",
       "      <td>alpha 0.6</td>\n",
       "    </tr>\n",
       "    <tr>\n",
       "      <th>7</th>\n",
       "      <td>0.7</td>\n",
       "      <td>1.018556</td>\n",
       "      <td>alpha 0.7</td>\n",
       "    </tr>\n",
       "    <tr>\n",
       "      <th>8</th>\n",
       "      <td>0.8</td>\n",
       "      <td>1.018556</td>\n",
       "      <td>alpha 0.8</td>\n",
       "    </tr>\n",
       "    <tr>\n",
       "      <th>9</th>\n",
       "      <td>0.9</td>\n",
       "      <td>1.018556</td>\n",
       "      <td>alpha 0.9</td>\n",
       "    </tr>\n",
       "    <tr>\n",
       "      <th>10</th>\n",
       "      <td>1.0</td>\n",
       "      <td>1.018556</td>\n",
       "      <td>alpha 1.0</td>\n",
       "    </tr>\n",
       "  </tbody>\n",
       "</table>\n",
       "</div>"
      ],
      "text/plain": [
       "    alpha       mse   fit_name\n",
       "0     0.0  1.084143  alpha 0.0\n",
       "1     0.1  1.011897  alpha 0.1\n",
       "2     0.2  1.018556  alpha 0.2\n",
       "3     0.3  1.018556  alpha 0.3\n",
       "4     0.4  1.018556  alpha 0.4\n",
       "5     0.5  1.018556  alpha 0.5\n",
       "6     0.6  1.018556  alpha 0.6\n",
       "7     0.7  1.018556  alpha 0.7\n",
       "8     0.8  1.018556  alpha 0.8\n",
       "9     0.9  1.018556  alpha 0.9\n",
       "10    1.0  1.018556  alpha 1.0"
      ]
     },
     "execution_count": 27,
     "metadata": {},
     "output_type": "execute_result"
    }
   ],
   "source": [
    "results"
   ]
  },
  {
   "cell_type": "code",
   "execution_count": null,
   "id": "29ec5681-6282-40f2-b2d5-455391e60fe3",
   "metadata": {},
   "outputs": [],
   "source": []
  }
 ],
 "metadata": {
  "kernelspec": {
   "display_name": "Python 3 (ipykernel)",
   "language": "python",
   "name": "python3"
  },
  "language_info": {
   "codemirror_mode": {
    "name": "ipython",
    "version": 3
   },
   "file_extension": ".py",
   "mimetype": "text/x-python",
   "name": "python",
   "nbconvert_exporter": "python",
   "pygments_lexer": "ipython3",
   "version": "3.12.5"
  }
 },
 "nbformat": 4,
 "nbformat_minor": 5
}
